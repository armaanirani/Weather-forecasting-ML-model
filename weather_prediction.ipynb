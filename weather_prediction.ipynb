{
 "cells": [
  {
   "cell_type": "markdown",
   "id": "35fbeca0-015d-419c-8e26-3508fda9bb69",
   "metadata": {},
   "source": [
    "## Importing the data"
   ]
  },
  {
   "cell_type": "code",
   "execution_count": null,
   "id": "9dbd0628-2d9a-4899-a17a-285f4181e02b",
   "metadata": {
    "tags": []
   },
   "outputs": [],
   "source": [
    "# importing the dependencies\n",
    "import pandas as pd\n",
    "import matplotlib.pyplot as plt"
   ]
  },
  {
   "cell_type": "code",
   "execution_count": 2,
   "id": "b2d94c44-bf39-4c0a-856a-84da0a6033e4",
   "metadata": {},
   "outputs": [],
   "source": [
    "# reading the data into a pandas dataframe and assigning the date column as the index for the df\n",
    "weather = pd.read_csv('weather_data.csv', index_col='DATE')"
   ]
  },
  {
   "cell_type": "code",
   "execution_count": 3,
   "id": "0ff5c189-4ac9-4492-a493-692686feee43",
   "metadata": {},
   "outputs": [
    {
     "data": {
      "text/html": [
       "<div>\n",
       "<style scoped>\n",
       "    .dataframe tbody tr th:only-of-type {\n",
       "        vertical-align: middle;\n",
       "    }\n",
       "\n",
       "    .dataframe tbody tr th {\n",
       "        vertical-align: top;\n",
       "    }\n",
       "\n",
       "    .dataframe thead th {\n",
       "        text-align: right;\n",
       "    }\n",
       "</style>\n",
       "<table border=\"1\" class=\"dataframe\">\n",
       "  <thead>\n",
       "    <tr style=\"text-align: right;\">\n",
       "      <th></th>\n",
       "      <th>STATION</th>\n",
       "      <th>NAME</th>\n",
       "      <th>ACMH</th>\n",
       "      <th>ACSH</th>\n",
       "      <th>AWND</th>\n",
       "      <th>DAPR</th>\n",
       "      <th>FMTM</th>\n",
       "      <th>MDPR</th>\n",
       "      <th>PGTM</th>\n",
       "      <th>PRCP</th>\n",
       "      <th>...</th>\n",
       "      <th>WT11</th>\n",
       "      <th>WT13</th>\n",
       "      <th>WT14</th>\n",
       "      <th>WT15</th>\n",
       "      <th>WT16</th>\n",
       "      <th>WT17</th>\n",
       "      <th>WT18</th>\n",
       "      <th>WT21</th>\n",
       "      <th>WT22</th>\n",
       "      <th>WV01</th>\n",
       "    </tr>\n",
       "    <tr>\n",
       "      <th>DATE</th>\n",
       "      <th></th>\n",
       "      <th></th>\n",
       "      <th></th>\n",
       "      <th></th>\n",
       "      <th></th>\n",
       "      <th></th>\n",
       "      <th></th>\n",
       "      <th></th>\n",
       "      <th></th>\n",
       "      <th></th>\n",
       "      <th></th>\n",
       "      <th></th>\n",
       "      <th></th>\n",
       "      <th></th>\n",
       "      <th></th>\n",
       "      <th></th>\n",
       "      <th></th>\n",
       "      <th></th>\n",
       "      <th></th>\n",
       "      <th></th>\n",
       "      <th></th>\n",
       "    </tr>\n",
       "  </thead>\n",
       "  <tbody>\n",
       "    <tr>\n",
       "      <th>1948-07-17</th>\n",
       "      <td>USW00094789</td>\n",
       "      <td>JFK INTERNATIONAL AIRPORT, NY US</td>\n",
       "      <td>NaN</td>\n",
       "      <td>NaN</td>\n",
       "      <td>NaN</td>\n",
       "      <td>NaN</td>\n",
       "      <td>NaN</td>\n",
       "      <td>NaN</td>\n",
       "      <td>NaN</td>\n",
       "      <td>0.06</td>\n",
       "      <td>...</td>\n",
       "      <td>NaN</td>\n",
       "      <td>NaN</td>\n",
       "      <td>NaN</td>\n",
       "      <td>NaN</td>\n",
       "      <td>1.0</td>\n",
       "      <td>NaN</td>\n",
       "      <td>NaN</td>\n",
       "      <td>NaN</td>\n",
       "      <td>NaN</td>\n",
       "      <td>NaN</td>\n",
       "    </tr>\n",
       "    <tr>\n",
       "      <th>1948-07-18</th>\n",
       "      <td>USW00094789</td>\n",
       "      <td>JFK INTERNATIONAL AIRPORT, NY US</td>\n",
       "      <td>NaN</td>\n",
       "      <td>NaN</td>\n",
       "      <td>NaN</td>\n",
       "      <td>NaN</td>\n",
       "      <td>NaN</td>\n",
       "      <td>NaN</td>\n",
       "      <td>NaN</td>\n",
       "      <td>0.00</td>\n",
       "      <td>...</td>\n",
       "      <td>NaN</td>\n",
       "      <td>NaN</td>\n",
       "      <td>NaN</td>\n",
       "      <td>NaN</td>\n",
       "      <td>1.0</td>\n",
       "      <td>NaN</td>\n",
       "      <td>NaN</td>\n",
       "      <td>NaN</td>\n",
       "      <td>NaN</td>\n",
       "      <td>NaN</td>\n",
       "    </tr>\n",
       "    <tr>\n",
       "      <th>1948-07-19</th>\n",
       "      <td>USW00094789</td>\n",
       "      <td>JFK INTERNATIONAL AIRPORT, NY US</td>\n",
       "      <td>NaN</td>\n",
       "      <td>NaN</td>\n",
       "      <td>NaN</td>\n",
       "      <td>NaN</td>\n",
       "      <td>NaN</td>\n",
       "      <td>NaN</td>\n",
       "      <td>NaN</td>\n",
       "      <td>0.00</td>\n",
       "      <td>...</td>\n",
       "      <td>NaN</td>\n",
       "      <td>NaN</td>\n",
       "      <td>NaN</td>\n",
       "      <td>NaN</td>\n",
       "      <td>1.0</td>\n",
       "      <td>NaN</td>\n",
       "      <td>NaN</td>\n",
       "      <td>NaN</td>\n",
       "      <td>NaN</td>\n",
       "      <td>NaN</td>\n",
       "    </tr>\n",
       "    <tr>\n",
       "      <th>1948-07-20</th>\n",
       "      <td>USW00094789</td>\n",
       "      <td>JFK INTERNATIONAL AIRPORT, NY US</td>\n",
       "      <td>NaN</td>\n",
       "      <td>NaN</td>\n",
       "      <td>NaN</td>\n",
       "      <td>NaN</td>\n",
       "      <td>NaN</td>\n",
       "      <td>NaN</td>\n",
       "      <td>NaN</td>\n",
       "      <td>0.00</td>\n",
       "      <td>...</td>\n",
       "      <td>NaN</td>\n",
       "      <td>NaN</td>\n",
       "      <td>NaN</td>\n",
       "      <td>NaN</td>\n",
       "      <td>NaN</td>\n",
       "      <td>NaN</td>\n",
       "      <td>NaN</td>\n",
       "      <td>NaN</td>\n",
       "      <td>NaN</td>\n",
       "      <td>NaN</td>\n",
       "    </tr>\n",
       "    <tr>\n",
       "      <th>1948-07-21</th>\n",
       "      <td>USW00094789</td>\n",
       "      <td>JFK INTERNATIONAL AIRPORT, NY US</td>\n",
       "      <td>NaN</td>\n",
       "      <td>NaN</td>\n",
       "      <td>NaN</td>\n",
       "      <td>NaN</td>\n",
       "      <td>NaN</td>\n",
       "      <td>NaN</td>\n",
       "      <td>NaN</td>\n",
       "      <td>2.45</td>\n",
       "      <td>...</td>\n",
       "      <td>NaN</td>\n",
       "      <td>NaN</td>\n",
       "      <td>NaN</td>\n",
       "      <td>NaN</td>\n",
       "      <td>1.0</td>\n",
       "      <td>NaN</td>\n",
       "      <td>NaN</td>\n",
       "      <td>NaN</td>\n",
       "      <td>NaN</td>\n",
       "      <td>NaN</td>\n",
       "    </tr>\n",
       "  </tbody>\n",
       "</table>\n",
       "<p>5 rows × 46 columns</p>\n",
       "</div>"
      ],
      "text/plain": [
       "                STATION                              NAME  ACMH  ACSH  AWND  \\\n",
       "DATE                                                                          \n",
       "1948-07-17  USW00094789  JFK INTERNATIONAL AIRPORT, NY US   NaN   NaN   NaN   \n",
       "1948-07-18  USW00094789  JFK INTERNATIONAL AIRPORT, NY US   NaN   NaN   NaN   \n",
       "1948-07-19  USW00094789  JFK INTERNATIONAL AIRPORT, NY US   NaN   NaN   NaN   \n",
       "1948-07-20  USW00094789  JFK INTERNATIONAL AIRPORT, NY US   NaN   NaN   NaN   \n",
       "1948-07-21  USW00094789  JFK INTERNATIONAL AIRPORT, NY US   NaN   NaN   NaN   \n",
       "\n",
       "            DAPR  FMTM  MDPR  PGTM  PRCP  ...  WT11  WT13  WT14  WT15  WT16  \\\n",
       "DATE                                      ...                                 \n",
       "1948-07-17   NaN   NaN   NaN   NaN  0.06  ...   NaN   NaN   NaN   NaN   1.0   \n",
       "1948-07-18   NaN   NaN   NaN   NaN  0.00  ...   NaN   NaN   NaN   NaN   1.0   \n",
       "1948-07-19   NaN   NaN   NaN   NaN  0.00  ...   NaN   NaN   NaN   NaN   1.0   \n",
       "1948-07-20   NaN   NaN   NaN   NaN  0.00  ...   NaN   NaN   NaN   NaN   NaN   \n",
       "1948-07-21   NaN   NaN   NaN   NaN  2.45  ...   NaN   NaN   NaN   NaN   1.0   \n",
       "\n",
       "            WT17  WT18  WT21  WT22  WV01  \n",
       "DATE                                      \n",
       "1948-07-17   NaN   NaN   NaN   NaN   NaN  \n",
       "1948-07-18   NaN   NaN   NaN   NaN   NaN  \n",
       "1948-07-19   NaN   NaN   NaN   NaN   NaN  \n",
       "1948-07-20   NaN   NaN   NaN   NaN   NaN  \n",
       "1948-07-21   NaN   NaN   NaN   NaN   NaN  \n",
       "\n",
       "[5 rows x 46 columns]"
      ]
     },
     "execution_count": 3,
     "metadata": {},
     "output_type": "execute_result"
    }
   ],
   "source": [
    "weather.head()"
   ]
  },
  {
   "cell_type": "markdown",
   "id": "37d9ddff-5662-4891-ae1e-643a2064e5e5",
   "metadata": {},
   "source": [
    "## Data pre processing"
   ]
  },
  {
   "cell_type": "markdown",
   "id": "9435fd5f-a350-45dc-9252-cdbc98ea5cd8",
   "metadata": {},
   "source": [
    "### 1. Missing values"
   ]
  },
  {
   "cell_type": "code",
   "execution_count": 4,
   "id": "bf80891c-2546-493e-a707-40b20d4e849c",
   "metadata": {},
   "outputs": [
    {
     "data": {
      "text/plain": [
       "STATION        0\n",
       "NAME           0\n",
       "ACMH       15664\n",
       "ACSH       15663\n",
       "AWND       12954\n",
       "DAPR       27009\n",
       "FMTM       16981\n",
       "MDPR       27009\n",
       "PGTM       14837\n",
       "PRCP        2890\n",
       "SNOW        3172\n",
       "SNWD        3172\n",
       "TAVG       20961\n",
       "TMAX           2\n",
       "TMIN           2\n",
       "TSUN       27074\n",
       "WDF1       15669\n",
       "WDF2       17456\n",
       "WDF5       17539\n",
       "WDFG       21984\n",
       "WDFM       27104\n",
       "WESD       21034\n",
       "WSF1       15666\n",
       "WSF2       17456\n",
       "WSF5       17540\n",
       "WSFG       19642\n",
       "WSFM       27103\n",
       "WT01       19022\n",
       "WT02       25714\n",
       "WT03       25674\n",
       "WT04       26714\n",
       "WT05       26731\n",
       "WT06       26897\n",
       "WT07       26993\n",
       "WT08       21557\n",
       "WT09       26925\n",
       "WT11       27091\n",
       "WT13       24920\n",
       "WT14       26218\n",
       "WT15       27063\n",
       "WT16       19316\n",
       "WT17       27045\n",
       "WT18       25678\n",
       "WT21       27100\n",
       "WT22       27056\n",
       "WV01       27104\n",
       "dtype: int64"
      ]
     },
     "execution_count": 4,
     "metadata": {},
     "output_type": "execute_result"
    }
   ],
   "source": [
    "# checking for missing values\n",
    "weather.isnull().sum()"
   ]
  },
  {
   "cell_type": "code",
   "execution_count": 5,
   "id": "285e54f3-ac1b-4793-9795-1946c5dc86da",
   "metadata": {},
   "outputs": [
    {
     "data": {
      "text/plain": [
       "STATION    0.000000\n",
       "NAME       0.000000\n",
       "ACMH       0.577901\n",
       "ACSH       0.577864\n",
       "AWND       0.477919\n",
       "DAPR       0.996458\n",
       "FMTM       0.626490\n",
       "MDPR       0.996458\n",
       "PGTM       0.547390\n",
       "PRCP       0.106622\n",
       "SNOW       0.117026\n",
       "SNWD       0.117026\n",
       "TAVG       0.773326\n",
       "TMAX       0.000074\n",
       "TMIN       0.000074\n",
       "TSUN       0.998856\n",
       "WDF1       0.578085\n",
       "WDF2       0.644014\n",
       "WDF5       0.647076\n",
       "WDFG       0.811068\n",
       "WDFM       0.999963\n",
       "WESD       0.776019\n",
       "WSF1       0.577975\n",
       "WSF2       0.644014\n",
       "WSF5       0.647113\n",
       "WSFG       0.724663\n",
       "WSFM       0.999926\n",
       "WT01       0.701789\n",
       "WT02       0.948681\n",
       "WT03       0.947205\n",
       "WT04       0.985575\n",
       "WT05       0.986202\n",
       "WT06       0.992326\n",
       "WT07       0.995868\n",
       "WT08       0.795315\n",
       "WT09       0.993359\n",
       "WT11       0.999483\n",
       "WT13       0.919388\n",
       "WT14       0.967275\n",
       "WT15       0.998450\n",
       "WT16       0.712636\n",
       "WT17       0.997786\n",
       "WT18       0.947353\n",
       "WT21       0.999816\n",
       "WT22       0.998192\n",
       "WV01       0.999963\n",
       "dtype: float64"
      ]
     },
     "execution_count": 5,
     "metadata": {},
     "output_type": "execute_result"
    }
   ],
   "source": [
    "# converting the number of missing values in each column into percentage\n",
    "weather.isnull().sum()/weather.shape[0]"
   ]
  },
  {
   "cell_type": "code",
   "execution_count": 6,
   "id": "ffe07734-4867-4357-8c8a-0d418c790665",
   "metadata": {},
   "outputs": [],
   "source": [
    "# creating a copy of weather dataframe with only core columns\n",
    "core_weather = weather[['PRCP','SNOW', 'SNWD', 'TMAX', 'TMIN']].copy()"
   ]
  },
  {
   "cell_type": "code",
   "execution_count": 7,
   "id": "32b39c6c-4327-43fc-9b58-39d25afa1d6e",
   "metadata": {},
   "outputs": [],
   "source": [
    "# renaming the columns \n",
    "core_weather.rename(columns = {'PRCP':'precip', \n",
    "                               'SNOW':'snow', \n",
    "                               'SNWD':'snow_depth', \n",
    "                               'TMAX':'temp_max', \n",
    "                               'TMIN':'temp_min'}, inplace=True)"
   ]
  },
  {
   "cell_type": "code",
   "execution_count": 8,
   "id": "7557020a-2a1e-479c-bde6-40946f160536",
   "metadata": {},
   "outputs": [
    {
     "data": {
      "text/html": [
       "<div>\n",
       "<style scoped>\n",
       "    .dataframe tbody tr th:only-of-type {\n",
       "        vertical-align: middle;\n",
       "    }\n",
       "\n",
       "    .dataframe tbody tr th {\n",
       "        vertical-align: top;\n",
       "    }\n",
       "\n",
       "    .dataframe thead th {\n",
       "        text-align: right;\n",
       "    }\n",
       "</style>\n",
       "<table border=\"1\" class=\"dataframe\">\n",
       "  <thead>\n",
       "    <tr style=\"text-align: right;\">\n",
       "      <th></th>\n",
       "      <th>precip</th>\n",
       "      <th>snow</th>\n",
       "      <th>snow_depth</th>\n",
       "      <th>temp_max</th>\n",
       "      <th>temp_min</th>\n",
       "    </tr>\n",
       "    <tr>\n",
       "      <th>DATE</th>\n",
       "      <th></th>\n",
       "      <th></th>\n",
       "      <th></th>\n",
       "      <th></th>\n",
       "      <th></th>\n",
       "    </tr>\n",
       "  </thead>\n",
       "  <tbody>\n",
       "    <tr>\n",
       "      <th>1948-07-17</th>\n",
       "      <td>0.06</td>\n",
       "      <td>0.0</td>\n",
       "      <td>0.0</td>\n",
       "      <td>74.0</td>\n",
       "      <td>64.0</td>\n",
       "    </tr>\n",
       "    <tr>\n",
       "      <th>1948-07-18</th>\n",
       "      <td>0.00</td>\n",
       "      <td>0.0</td>\n",
       "      <td>0.0</td>\n",
       "      <td>81.0</td>\n",
       "      <td>70.0</td>\n",
       "    </tr>\n",
       "    <tr>\n",
       "      <th>1948-07-19</th>\n",
       "      <td>0.00</td>\n",
       "      <td>0.0</td>\n",
       "      <td>0.0</td>\n",
       "      <td>85.0</td>\n",
       "      <td>70.0</td>\n",
       "    </tr>\n",
       "    <tr>\n",
       "      <th>1948-07-20</th>\n",
       "      <td>0.00</td>\n",
       "      <td>0.0</td>\n",
       "      <td>0.0</td>\n",
       "      <td>84.0</td>\n",
       "      <td>69.0</td>\n",
       "    </tr>\n",
       "    <tr>\n",
       "      <th>1948-07-21</th>\n",
       "      <td>2.45</td>\n",
       "      <td>0.0</td>\n",
       "      <td>0.0</td>\n",
       "      <td>85.0</td>\n",
       "      <td>71.0</td>\n",
       "    </tr>\n",
       "    <tr>\n",
       "      <th>...</th>\n",
       "      <td>...</td>\n",
       "      <td>...</td>\n",
       "      <td>...</td>\n",
       "      <td>...</td>\n",
       "      <td>...</td>\n",
       "    </tr>\n",
       "    <tr>\n",
       "      <th>2022-09-27</th>\n",
       "      <td>0.00</td>\n",
       "      <td>0.0</td>\n",
       "      <td>0.0</td>\n",
       "      <td>72.0</td>\n",
       "      <td>60.0</td>\n",
       "    </tr>\n",
       "    <tr>\n",
       "      <th>2022-09-28</th>\n",
       "      <td>0.00</td>\n",
       "      <td>0.0</td>\n",
       "      <td>0.0</td>\n",
       "      <td>73.0</td>\n",
       "      <td>54.0</td>\n",
       "    </tr>\n",
       "    <tr>\n",
       "      <th>2022-09-29</th>\n",
       "      <td>0.00</td>\n",
       "      <td>0.0</td>\n",
       "      <td>0.0</td>\n",
       "      <td>68.0</td>\n",
       "      <td>56.0</td>\n",
       "    </tr>\n",
       "    <tr>\n",
       "      <th>2022-09-30</th>\n",
       "      <td>0.00</td>\n",
       "      <td>0.0</td>\n",
       "      <td>0.0</td>\n",
       "      <td>64.0</td>\n",
       "      <td>54.0</td>\n",
       "    </tr>\n",
       "    <tr>\n",
       "      <th>2022-10-01</th>\n",
       "      <td>0.89</td>\n",
       "      <td>0.0</td>\n",
       "      <td>0.0</td>\n",
       "      <td>60.0</td>\n",
       "      <td>53.0</td>\n",
       "    </tr>\n",
       "  </tbody>\n",
       "</table>\n",
       "<p>27105 rows × 5 columns</p>\n",
       "</div>"
      ],
      "text/plain": [
       "            precip  snow  snow_depth  temp_max  temp_min\n",
       "DATE                                                    \n",
       "1948-07-17    0.06   0.0         0.0      74.0      64.0\n",
       "1948-07-18    0.00   0.0         0.0      81.0      70.0\n",
       "1948-07-19    0.00   0.0         0.0      85.0      70.0\n",
       "1948-07-20    0.00   0.0         0.0      84.0      69.0\n",
       "1948-07-21    2.45   0.0         0.0      85.0      71.0\n",
       "...            ...   ...         ...       ...       ...\n",
       "2022-09-27    0.00   0.0         0.0      72.0      60.0\n",
       "2022-09-28    0.00   0.0         0.0      73.0      54.0\n",
       "2022-09-29    0.00   0.0         0.0      68.0      56.0\n",
       "2022-09-30    0.00   0.0         0.0      64.0      54.0\n",
       "2022-10-01    0.89   0.0         0.0      60.0      53.0\n",
       "\n",
       "[27105 rows x 5 columns]"
      ]
     },
     "execution_count": 8,
     "metadata": {},
     "output_type": "execute_result"
    }
   ],
   "source": [
    "core_weather"
   ]
  },
  {
   "cell_type": "code",
   "execution_count": 9,
   "id": "f5e6e13b-ed32-46a0-866f-55a5d4f40661",
   "metadata": {},
   "outputs": [
    {
     "data": {
      "text/plain": [
       "precip        0.106622\n",
       "snow          0.117026\n",
       "snow_depth    0.117026\n",
       "temp_max      0.000074\n",
       "temp_min      0.000074\n",
       "dtype: float64"
      ]
     },
     "execution_count": 9,
     "metadata": {},
     "output_type": "execute_result"
    }
   ],
   "source": [
    "# checking for missing values \n",
    "core_weather.isnull().sum()/core_weather.shape[0]"
   ]
  },
  {
   "cell_type": "code",
   "execution_count": 10,
   "id": "4c84e9bd-1f4c-43eb-8848-d094f0ca3954",
   "metadata": {},
   "outputs": [
    {
     "data": {
      "text/plain": [
       "0.0     23031\n",
       "0.1       107\n",
       "0.2        80\n",
       "0.3        76\n",
       "0.4        47\n",
       "        ...  \n",
       "10.4        1\n",
       "14.1        1\n",
       "13.0        1\n",
       "11.0        1\n",
       "11.9        1\n",
       "Name: snow, Length: 99, dtype: int64"
      ]
     },
     "execution_count": 10,
     "metadata": {},
     "output_type": "execute_result"
    }
   ],
   "source": [
    "core_weather['snow'].value_counts()"
   ]
  },
  {
   "cell_type": "code",
   "execution_count": 11,
   "id": "45d57df1-d7f5-4c21-a79b-3ce7421786b0",
   "metadata": {},
   "outputs": [
    {
     "data": {
      "text/plain": [
       "0.00    16342\n",
       "0.01      697\n",
       "0.02      539\n",
       "0.03      372\n",
       "0.04      314\n",
       "        ...  \n",
       "6.27        1\n",
       "2.15        1\n",
       "3.39        1\n",
       "2.04        1\n",
       "3.24        1\n",
       "Name: precip, Length: 279, dtype: int64"
      ]
     },
     "execution_count": 11,
     "metadata": {},
     "output_type": "execute_result"
    }
   ],
   "source": [
    "core_weather['precip'].value_counts()"
   ]
  },
  {
   "cell_type": "code",
   "execution_count": 12,
   "id": "29a0c47b-4312-4bd7-886a-9431ef2928ab",
   "metadata": {},
   "outputs": [
    {
     "data": {
      "text/html": [
       "<div>\n",
       "<style scoped>\n",
       "    .dataframe tbody tr th:only-of-type {\n",
       "        vertical-align: middle;\n",
       "    }\n",
       "\n",
       "    .dataframe tbody tr th {\n",
       "        vertical-align: top;\n",
       "    }\n",
       "\n",
       "    .dataframe thead th {\n",
       "        text-align: right;\n",
       "    }\n",
       "</style>\n",
       "<table border=\"1\" class=\"dataframe\">\n",
       "  <thead>\n",
       "    <tr style=\"text-align: right;\">\n",
       "      <th></th>\n",
       "      <th>precip</th>\n",
       "      <th>snow</th>\n",
       "      <th>snow_depth</th>\n",
       "      <th>temp_max</th>\n",
       "      <th>temp_min</th>\n",
       "    </tr>\n",
       "    <tr>\n",
       "      <th>DATE</th>\n",
       "      <th></th>\n",
       "      <th></th>\n",
       "      <th></th>\n",
       "      <th></th>\n",
       "      <th></th>\n",
       "    </tr>\n",
       "  </thead>\n",
       "  <tbody>\n",
       "    <tr>\n",
       "      <th>1950-06-01</th>\n",
       "      <td>NaN</td>\n",
       "      <td>NaN</td>\n",
       "      <td>NaN</td>\n",
       "      <td>65.0</td>\n",
       "      <td>57.0</td>\n",
       "    </tr>\n",
       "    <tr>\n",
       "      <th>1950-06-02</th>\n",
       "      <td>NaN</td>\n",
       "      <td>NaN</td>\n",
       "      <td>NaN</td>\n",
       "      <td>85.0</td>\n",
       "      <td>53.0</td>\n",
       "    </tr>\n",
       "    <tr>\n",
       "      <th>1950-06-03</th>\n",
       "      <td>NaN</td>\n",
       "      <td>NaN</td>\n",
       "      <td>NaN</td>\n",
       "      <td>77.0</td>\n",
       "      <td>60.0</td>\n",
       "    </tr>\n",
       "    <tr>\n",
       "      <th>1950-06-04</th>\n",
       "      <td>NaN</td>\n",
       "      <td>NaN</td>\n",
       "      <td>NaN</td>\n",
       "      <td>74.0</td>\n",
       "      <td>53.0</td>\n",
       "    </tr>\n",
       "    <tr>\n",
       "      <th>1950-06-05</th>\n",
       "      <td>NaN</td>\n",
       "      <td>NaN</td>\n",
       "      <td>NaN</td>\n",
       "      <td>71.0</td>\n",
       "      <td>52.0</td>\n",
       "    </tr>\n",
       "    <tr>\n",
       "      <th>...</th>\n",
       "      <td>...</td>\n",
       "      <td>...</td>\n",
       "      <td>...</td>\n",
       "      <td>...</td>\n",
       "      <td>...</td>\n",
       "    </tr>\n",
       "    <tr>\n",
       "      <th>1958-12-29</th>\n",
       "      <td>NaN</td>\n",
       "      <td>NaN</td>\n",
       "      <td>NaN</td>\n",
       "      <td>39.0</td>\n",
       "      <td>35.0</td>\n",
       "    </tr>\n",
       "    <tr>\n",
       "      <th>1958-12-30</th>\n",
       "      <td>NaN</td>\n",
       "      <td>NaN</td>\n",
       "      <td>NaN</td>\n",
       "      <td>48.0</td>\n",
       "      <td>31.0</td>\n",
       "    </tr>\n",
       "    <tr>\n",
       "      <th>1959-12-01</th>\n",
       "      <td>NaN</td>\n",
       "      <td>NaN</td>\n",
       "      <td>0.0</td>\n",
       "      <td>NaN</td>\n",
       "      <td>NaN</td>\n",
       "    </tr>\n",
       "    <tr>\n",
       "      <th>1960-05-29</th>\n",
       "      <td>NaN</td>\n",
       "      <td>0.0</td>\n",
       "      <td>0.0</td>\n",
       "      <td>66.0</td>\n",
       "      <td>52.0</td>\n",
       "    </tr>\n",
       "    <tr>\n",
       "      <th>1962-02-09</th>\n",
       "      <td>NaN</td>\n",
       "      <td>2.2</td>\n",
       "      <td>0.0</td>\n",
       "      <td>41.0</td>\n",
       "      <td>24.0</td>\n",
       "    </tr>\n",
       "  </tbody>\n",
       "</table>\n",
       "<p>2890 rows × 5 columns</p>\n",
       "</div>"
      ],
      "text/plain": [
       "            precip  snow  snow_depth  temp_max  temp_min\n",
       "DATE                                                    \n",
       "1950-06-01     NaN   NaN         NaN      65.0      57.0\n",
       "1950-06-02     NaN   NaN         NaN      85.0      53.0\n",
       "1950-06-03     NaN   NaN         NaN      77.0      60.0\n",
       "1950-06-04     NaN   NaN         NaN      74.0      53.0\n",
       "1950-06-05     NaN   NaN         NaN      71.0      52.0\n",
       "...            ...   ...         ...       ...       ...\n",
       "1958-12-29     NaN   NaN         NaN      39.0      35.0\n",
       "1958-12-30     NaN   NaN         NaN      48.0      31.0\n",
       "1959-12-01     NaN   NaN         0.0       NaN       NaN\n",
       "1960-05-29     NaN   0.0         0.0      66.0      52.0\n",
       "1962-02-09     NaN   2.2         0.0      41.0      24.0\n",
       "\n",
       "[2890 rows x 5 columns]"
      ]
     },
     "execution_count": 12,
     "metadata": {},
     "output_type": "execute_result"
    }
   ],
   "source": [
    "core_weather[pd.isnull(core_weather['precip'])]"
   ]
  },
  {
   "cell_type": "code",
   "execution_count": 13,
   "id": "5324cb3d-028e-4868-95dd-66d306a7f882",
   "metadata": {},
   "outputs": [
    {
     "data": {
      "text/html": [
       "<div>\n",
       "<style scoped>\n",
       "    .dataframe tbody tr th:only-of-type {\n",
       "        vertical-align: middle;\n",
       "    }\n",
       "\n",
       "    .dataframe tbody tr th {\n",
       "        vertical-align: top;\n",
       "    }\n",
       "\n",
       "    .dataframe thead th {\n",
       "        text-align: right;\n",
       "    }\n",
       "</style>\n",
       "<table border=\"1\" class=\"dataframe\">\n",
       "  <thead>\n",
       "    <tr style=\"text-align: right;\">\n",
       "      <th></th>\n",
       "      <th>precip</th>\n",
       "      <th>snow</th>\n",
       "      <th>snow_depth</th>\n",
       "      <th>temp_max</th>\n",
       "      <th>temp_min</th>\n",
       "    </tr>\n",
       "    <tr>\n",
       "      <th>DATE</th>\n",
       "      <th></th>\n",
       "      <th></th>\n",
       "      <th></th>\n",
       "      <th></th>\n",
       "      <th></th>\n",
       "    </tr>\n",
       "  </thead>\n",
       "  <tbody>\n",
       "    <tr>\n",
       "      <th>1950-06-01</th>\n",
       "      <td>NaN</td>\n",
       "      <td>NaN</td>\n",
       "      <td>NaN</td>\n",
       "      <td>65.0</td>\n",
       "      <td>57.0</td>\n",
       "    </tr>\n",
       "    <tr>\n",
       "      <th>1950-06-02</th>\n",
       "      <td>NaN</td>\n",
       "      <td>NaN</td>\n",
       "      <td>NaN</td>\n",
       "      <td>85.0</td>\n",
       "      <td>53.0</td>\n",
       "    </tr>\n",
       "    <tr>\n",
       "      <th>1950-06-03</th>\n",
       "      <td>NaN</td>\n",
       "      <td>NaN</td>\n",
       "      <td>NaN</td>\n",
       "      <td>77.0</td>\n",
       "      <td>60.0</td>\n",
       "    </tr>\n",
       "    <tr>\n",
       "      <th>1950-06-04</th>\n",
       "      <td>NaN</td>\n",
       "      <td>NaN</td>\n",
       "      <td>NaN</td>\n",
       "      <td>74.0</td>\n",
       "      <td>53.0</td>\n",
       "    </tr>\n",
       "    <tr>\n",
       "      <th>1950-06-05</th>\n",
       "      <td>NaN</td>\n",
       "      <td>NaN</td>\n",
       "      <td>NaN</td>\n",
       "      <td>71.0</td>\n",
       "      <td>52.0</td>\n",
       "    </tr>\n",
       "    <tr>\n",
       "      <th>1950-06-06</th>\n",
       "      <td>NaN</td>\n",
       "      <td>NaN</td>\n",
       "      <td>NaN</td>\n",
       "      <td>75.0</td>\n",
       "      <td>58.0</td>\n",
       "    </tr>\n",
       "    <tr>\n",
       "      <th>1950-06-07</th>\n",
       "      <td>NaN</td>\n",
       "      <td>NaN</td>\n",
       "      <td>NaN</td>\n",
       "      <td>87.0</td>\n",
       "      <td>63.0</td>\n",
       "    </tr>\n",
       "    <tr>\n",
       "      <th>1950-06-08</th>\n",
       "      <td>NaN</td>\n",
       "      <td>NaN</td>\n",
       "      <td>NaN</td>\n",
       "      <td>85.0</td>\n",
       "      <td>65.0</td>\n",
       "    </tr>\n",
       "    <tr>\n",
       "      <th>1950-06-09</th>\n",
       "      <td>NaN</td>\n",
       "      <td>NaN</td>\n",
       "      <td>NaN</td>\n",
       "      <td>73.0</td>\n",
       "      <td>63.0</td>\n",
       "    </tr>\n",
       "    <tr>\n",
       "      <th>1950-06-10</th>\n",
       "      <td>NaN</td>\n",
       "      <td>NaN</td>\n",
       "      <td>NaN</td>\n",
       "      <td>78.0</td>\n",
       "      <td>63.0</td>\n",
       "    </tr>\n",
       "    <tr>\n",
       "      <th>1950-06-11</th>\n",
       "      <td>NaN</td>\n",
       "      <td>NaN</td>\n",
       "      <td>NaN</td>\n",
       "      <td>76.0</td>\n",
       "      <td>63.0</td>\n",
       "    </tr>\n",
       "    <tr>\n",
       "      <th>1950-06-12</th>\n",
       "      <td>NaN</td>\n",
       "      <td>NaN</td>\n",
       "      <td>NaN</td>\n",
       "      <td>66.0</td>\n",
       "      <td>56.0</td>\n",
       "    </tr>\n",
       "    <tr>\n",
       "      <th>1950-06-13</th>\n",
       "      <td>NaN</td>\n",
       "      <td>NaN</td>\n",
       "      <td>NaN</td>\n",
       "      <td>68.0</td>\n",
       "      <td>55.0</td>\n",
       "    </tr>\n",
       "    <tr>\n",
       "      <th>1950-06-14</th>\n",
       "      <td>NaN</td>\n",
       "      <td>NaN</td>\n",
       "      <td>NaN</td>\n",
       "      <td>65.0</td>\n",
       "      <td>58.0</td>\n",
       "    </tr>\n",
       "    <tr>\n",
       "      <th>1950-06-15</th>\n",
       "      <td>NaN</td>\n",
       "      <td>NaN</td>\n",
       "      <td>NaN</td>\n",
       "      <td>68.0</td>\n",
       "      <td>60.0</td>\n",
       "    </tr>\n",
       "    <tr>\n",
       "      <th>1950-06-16</th>\n",
       "      <td>NaN</td>\n",
       "      <td>NaN</td>\n",
       "      <td>NaN</td>\n",
       "      <td>71.0</td>\n",
       "      <td>60.0</td>\n",
       "    </tr>\n",
       "    <tr>\n",
       "      <th>1950-06-17</th>\n",
       "      <td>NaN</td>\n",
       "      <td>NaN</td>\n",
       "      <td>NaN</td>\n",
       "      <td>80.0</td>\n",
       "      <td>63.0</td>\n",
       "    </tr>\n",
       "    <tr>\n",
       "      <th>1950-06-18</th>\n",
       "      <td>NaN</td>\n",
       "      <td>NaN</td>\n",
       "      <td>NaN</td>\n",
       "      <td>74.0</td>\n",
       "      <td>51.0</td>\n",
       "    </tr>\n",
       "    <tr>\n",
       "      <th>1950-06-19</th>\n",
       "      <td>NaN</td>\n",
       "      <td>NaN</td>\n",
       "      <td>NaN</td>\n",
       "      <td>64.0</td>\n",
       "      <td>57.0</td>\n",
       "    </tr>\n",
       "    <tr>\n",
       "      <th>1950-06-20</th>\n",
       "      <td>NaN</td>\n",
       "      <td>NaN</td>\n",
       "      <td>NaN</td>\n",
       "      <td>67.0</td>\n",
       "      <td>57.0</td>\n",
       "    </tr>\n",
       "    <tr>\n",
       "      <th>1950-06-21</th>\n",
       "      <td>NaN</td>\n",
       "      <td>NaN</td>\n",
       "      <td>NaN</td>\n",
       "      <td>82.0</td>\n",
       "      <td>62.0</td>\n",
       "    </tr>\n",
       "    <tr>\n",
       "      <th>1950-06-22</th>\n",
       "      <td>NaN</td>\n",
       "      <td>NaN</td>\n",
       "      <td>NaN</td>\n",
       "      <td>75.0</td>\n",
       "      <td>61.0</td>\n",
       "    </tr>\n",
       "    <tr>\n",
       "      <th>1950-06-23</th>\n",
       "      <td>NaN</td>\n",
       "      <td>NaN</td>\n",
       "      <td>NaN</td>\n",
       "      <td>72.0</td>\n",
       "      <td>59.0</td>\n",
       "    </tr>\n",
       "    <tr>\n",
       "      <th>1950-06-24</th>\n",
       "      <td>NaN</td>\n",
       "      <td>NaN</td>\n",
       "      <td>NaN</td>\n",
       "      <td>79.0</td>\n",
       "      <td>65.0</td>\n",
       "    </tr>\n",
       "    <tr>\n",
       "      <th>1950-06-25</th>\n",
       "      <td>NaN</td>\n",
       "      <td>NaN</td>\n",
       "      <td>NaN</td>\n",
       "      <td>93.0</td>\n",
       "      <td>71.0</td>\n",
       "    </tr>\n",
       "    <tr>\n",
       "      <th>1950-06-26</th>\n",
       "      <td>NaN</td>\n",
       "      <td>NaN</td>\n",
       "      <td>NaN</td>\n",
       "      <td>90.0</td>\n",
       "      <td>72.0</td>\n",
       "    </tr>\n",
       "    <tr>\n",
       "      <th>1950-06-27</th>\n",
       "      <td>NaN</td>\n",
       "      <td>NaN</td>\n",
       "      <td>NaN</td>\n",
       "      <td>88.0</td>\n",
       "      <td>67.0</td>\n",
       "    </tr>\n",
       "    <tr>\n",
       "      <th>1950-06-28</th>\n",
       "      <td>NaN</td>\n",
       "      <td>NaN</td>\n",
       "      <td>NaN</td>\n",
       "      <td>81.0</td>\n",
       "      <td>63.0</td>\n",
       "    </tr>\n",
       "    <tr>\n",
       "      <th>1950-06-29</th>\n",
       "      <td>NaN</td>\n",
       "      <td>NaN</td>\n",
       "      <td>NaN</td>\n",
       "      <td>77.0</td>\n",
       "      <td>63.0</td>\n",
       "    </tr>\n",
       "    <tr>\n",
       "      <th>1950-06-30</th>\n",
       "      <td>NaN</td>\n",
       "      <td>NaN</td>\n",
       "      <td>NaN</td>\n",
       "      <td>78.0</td>\n",
       "      <td>66.0</td>\n",
       "    </tr>\n",
       "  </tbody>\n",
       "</table>\n",
       "</div>"
      ],
      "text/plain": [
       "            precip  snow  snow_depth  temp_max  temp_min\n",
       "DATE                                                    \n",
       "1950-06-01     NaN   NaN         NaN      65.0      57.0\n",
       "1950-06-02     NaN   NaN         NaN      85.0      53.0\n",
       "1950-06-03     NaN   NaN         NaN      77.0      60.0\n",
       "1950-06-04     NaN   NaN         NaN      74.0      53.0\n",
       "1950-06-05     NaN   NaN         NaN      71.0      52.0\n",
       "1950-06-06     NaN   NaN         NaN      75.0      58.0\n",
       "1950-06-07     NaN   NaN         NaN      87.0      63.0\n",
       "1950-06-08     NaN   NaN         NaN      85.0      65.0\n",
       "1950-06-09     NaN   NaN         NaN      73.0      63.0\n",
       "1950-06-10     NaN   NaN         NaN      78.0      63.0\n",
       "1950-06-11     NaN   NaN         NaN      76.0      63.0\n",
       "1950-06-12     NaN   NaN         NaN      66.0      56.0\n",
       "1950-06-13     NaN   NaN         NaN      68.0      55.0\n",
       "1950-06-14     NaN   NaN         NaN      65.0      58.0\n",
       "1950-06-15     NaN   NaN         NaN      68.0      60.0\n",
       "1950-06-16     NaN   NaN         NaN      71.0      60.0\n",
       "1950-06-17     NaN   NaN         NaN      80.0      63.0\n",
       "1950-06-18     NaN   NaN         NaN      74.0      51.0\n",
       "1950-06-19     NaN   NaN         NaN      64.0      57.0\n",
       "1950-06-20     NaN   NaN         NaN      67.0      57.0\n",
       "1950-06-21     NaN   NaN         NaN      82.0      62.0\n",
       "1950-06-22     NaN   NaN         NaN      75.0      61.0\n",
       "1950-06-23     NaN   NaN         NaN      72.0      59.0\n",
       "1950-06-24     NaN   NaN         NaN      79.0      65.0\n",
       "1950-06-25     NaN   NaN         NaN      93.0      71.0\n",
       "1950-06-26     NaN   NaN         NaN      90.0      72.0\n",
       "1950-06-27     NaN   NaN         NaN      88.0      67.0\n",
       "1950-06-28     NaN   NaN         NaN      81.0      63.0\n",
       "1950-06-29     NaN   NaN         NaN      77.0      63.0\n",
       "1950-06-30     NaN   NaN         NaN      78.0      66.0"
      ]
     },
     "execution_count": 13,
     "metadata": {},
     "output_type": "execute_result"
    }
   ],
   "source": [
    "core_weather.loc['1950-06-01':'1950-06-31']"
   ]
  },
  {
   "cell_type": "code",
   "execution_count": 14,
   "id": "f203d13b-7b53-4dc4-915d-f644f0b9fc2b",
   "metadata": {},
   "outputs": [
    {
     "data": {
      "text/plain": [
       "0.00    16342\n",
       "0.01      697\n",
       "0.02      539\n",
       "0.03      372\n",
       "0.04      314\n",
       "        ...  \n",
       "6.27        1\n",
       "2.15        1\n",
       "3.39        1\n",
       "2.04        1\n",
       "3.24        1\n",
       "Name: precip, Length: 279, dtype: int64"
      ]
     },
     "execution_count": 14,
     "metadata": {},
     "output_type": "execute_result"
    }
   ],
   "source": [
    "core_weather['precip'].value_counts()"
   ]
  },
  {
   "cell_type": "code",
   "execution_count": 15,
   "id": "06071492-001a-41ea-b771-cb7eaa081160",
   "metadata": {},
   "outputs": [],
   "source": [
    "# replacing null values with 0.00\n",
    "core_weather['precip'] = core_weather['precip'].fillna(0)"
   ]
  },
  {
   "cell_type": "code",
   "execution_count": 16,
   "id": "947c438c-79da-4450-805b-9a0779dd18f8",
   "metadata": {},
   "outputs": [],
   "source": [
    "core_weather['snow'] = core_weather['snow'].fillna(0)\n",
    "core_weather['snow_depth'] = core_weather['snow_depth'].fillna(0)"
   ]
  },
  {
   "cell_type": "code",
   "execution_count": 17,
   "id": "1802eec0-60e3-4058-9811-b6f9217d6df6",
   "metadata": {},
   "outputs": [
    {
     "data": {
      "text/html": [
       "<div>\n",
       "<style scoped>\n",
       "    .dataframe tbody tr th:only-of-type {\n",
       "        vertical-align: middle;\n",
       "    }\n",
       "\n",
       "    .dataframe tbody tr th {\n",
       "        vertical-align: top;\n",
       "    }\n",
       "\n",
       "    .dataframe thead th {\n",
       "        text-align: right;\n",
       "    }\n",
       "</style>\n",
       "<table border=\"1\" class=\"dataframe\">\n",
       "  <thead>\n",
       "    <tr style=\"text-align: right;\">\n",
       "      <th></th>\n",
       "      <th>precip</th>\n",
       "      <th>snow</th>\n",
       "      <th>snow_depth</th>\n",
       "      <th>temp_max</th>\n",
       "      <th>temp_min</th>\n",
       "    </tr>\n",
       "    <tr>\n",
       "      <th>DATE</th>\n",
       "      <th></th>\n",
       "      <th></th>\n",
       "      <th></th>\n",
       "      <th></th>\n",
       "      <th></th>\n",
       "    </tr>\n",
       "  </thead>\n",
       "  <tbody>\n",
       "    <tr>\n",
       "      <th>1959-12-01</th>\n",
       "      <td>0.0</td>\n",
       "      <td>0.0</td>\n",
       "      <td>0.0</td>\n",
       "      <td>NaN</td>\n",
       "      <td>NaN</td>\n",
       "    </tr>\n",
       "    <tr>\n",
       "      <th>1960-05-01</th>\n",
       "      <td>0.0</td>\n",
       "      <td>0.0</td>\n",
       "      <td>0.0</td>\n",
       "      <td>NaN</td>\n",
       "      <td>NaN</td>\n",
       "    </tr>\n",
       "  </tbody>\n",
       "</table>\n",
       "</div>"
      ],
      "text/plain": [
       "            precip  snow  snow_depth  temp_max  temp_min\n",
       "DATE                                                    \n",
       "1959-12-01     0.0   0.0         0.0       NaN       NaN\n",
       "1960-05-01     0.0   0.0         0.0       NaN       NaN"
      ]
     },
     "execution_count": 17,
     "metadata": {},
     "output_type": "execute_result"
    }
   ],
   "source": [
    "core_weather[pd.isnull(core_weather['temp_max'])]"
   ]
  },
  {
   "cell_type": "code",
   "execution_count": 18,
   "id": "15fe8908-67e2-4b3e-9637-0942460b58ae",
   "metadata": {},
   "outputs": [
    {
     "data": {
      "text/html": [
       "<div>\n",
       "<style scoped>\n",
       "    .dataframe tbody tr th:only-of-type {\n",
       "        vertical-align: middle;\n",
       "    }\n",
       "\n",
       "    .dataframe tbody tr th {\n",
       "        vertical-align: top;\n",
       "    }\n",
       "\n",
       "    .dataframe thead th {\n",
       "        text-align: right;\n",
       "    }\n",
       "</style>\n",
       "<table border=\"1\" class=\"dataframe\">\n",
       "  <thead>\n",
       "    <tr style=\"text-align: right;\">\n",
       "      <th></th>\n",
       "      <th>precip</th>\n",
       "      <th>snow</th>\n",
       "      <th>snow_depth</th>\n",
       "      <th>temp_max</th>\n",
       "      <th>temp_min</th>\n",
       "    </tr>\n",
       "    <tr>\n",
       "      <th>DATE</th>\n",
       "      <th></th>\n",
       "      <th></th>\n",
       "      <th></th>\n",
       "      <th></th>\n",
       "      <th></th>\n",
       "    </tr>\n",
       "  </thead>\n",
       "  <tbody>\n",
       "    <tr>\n",
       "      <th>1959-12-01</th>\n",
       "      <td>0.0</td>\n",
       "      <td>0.0</td>\n",
       "      <td>0.0</td>\n",
       "      <td>NaN</td>\n",
       "      <td>NaN</td>\n",
       "    </tr>\n",
       "    <tr>\n",
       "      <th>1960-05-01</th>\n",
       "      <td>0.0</td>\n",
       "      <td>0.0</td>\n",
       "      <td>0.0</td>\n",
       "      <td>NaN</td>\n",
       "      <td>NaN</td>\n",
       "    </tr>\n",
       "  </tbody>\n",
       "</table>\n",
       "</div>"
      ],
      "text/plain": [
       "            precip  snow  snow_depth  temp_max  temp_min\n",
       "DATE                                                    \n",
       "1959-12-01     0.0   0.0         0.0       NaN       NaN\n",
       "1960-05-01     0.0   0.0         0.0       NaN       NaN"
      ]
     },
     "execution_count": 18,
     "metadata": {},
     "output_type": "execute_result"
    }
   ],
   "source": [
    "core_weather[pd.isnull(core_weather['temp_min'])]"
   ]
  },
  {
   "cell_type": "code",
   "execution_count": 19,
   "id": "f1059143-8bb2-4ca9-8380-c996f8c19bef",
   "metadata": {},
   "outputs": [],
   "source": [
    "# forward filling the null values\n",
    "core_weather = core_weather.fillna(method = 'ffill')"
   ]
  },
  {
   "cell_type": "code",
   "execution_count": 20,
   "id": "3a20f103-ee5e-4fb8-b56c-14318526df74",
   "metadata": {},
   "outputs": [
    {
     "data": {
      "text/plain": [
       "precip        0.0\n",
       "snow          0.0\n",
       "snow_depth    0.0\n",
       "temp_max      0.0\n",
       "temp_min      0.0\n",
       "dtype: float64"
      ]
     },
     "execution_count": 20,
     "metadata": {},
     "output_type": "execute_result"
    }
   ],
   "source": [
    "core_weather.isnull().sum()/core_weather.shape[0]"
   ]
  },
  {
   "cell_type": "code",
   "execution_count": 21,
   "id": "fbc6dce4-7808-4912-bc45-5e7ff53aacd3",
   "metadata": {},
   "outputs": [
    {
     "data": {
      "text/plain": [
       "precip        0\n",
       "snow          0\n",
       "snow_depth    0\n",
       "temp_max      0\n",
       "temp_min      0\n",
       "dtype: int64"
      ]
     },
     "execution_count": 21,
     "metadata": {},
     "output_type": "execute_result"
    }
   ],
   "source": [
    "# checking to see if any columns have 9999 as an entry\n",
    "core_weather.apply(lambda x: (x==9999).sum())"
   ]
  },
  {
   "cell_type": "markdown",
   "id": "b82769cd-f083-4821-b37c-05887ed89b35",
   "metadata": {},
   "source": [
    "### 2. Verifying data types"
   ]
  },
  {
   "cell_type": "code",
   "execution_count": 22,
   "id": "71b11842-fbe1-47a5-b56c-d498664b46da",
   "metadata": {},
   "outputs": [
    {
     "data": {
      "text/plain": [
       "precip        float64\n",
       "snow          float64\n",
       "snow_depth    float64\n",
       "temp_max      float64\n",
       "temp_min      float64\n",
       "dtype: object"
      ]
     },
     "execution_count": 22,
     "metadata": {},
     "output_type": "execute_result"
    }
   ],
   "source": [
    "core_weather.dtypes"
   ]
  },
  {
   "cell_type": "code",
   "execution_count": 23,
   "id": "e74e97cb-3196-4b61-af6d-57b26dd0d3a6",
   "metadata": {},
   "outputs": [
    {
     "data": {
      "text/plain": [
       "Index(['1948-07-17', '1948-07-18', '1948-07-19', '1948-07-20', '1948-07-21',\n",
       "       '1948-07-22', '1948-07-23', '1948-07-24', '1948-07-25', '1948-07-26',\n",
       "       ...\n",
       "       '2022-09-22', '2022-09-23', '2022-09-24', '2022-09-25', '2022-09-26',\n",
       "       '2022-09-27', '2022-09-28', '2022-09-29', '2022-09-30', '2022-10-01'],\n",
       "      dtype='object', name='DATE', length=27105)"
      ]
     },
     "execution_count": 23,
     "metadata": {},
     "output_type": "execute_result"
    }
   ],
   "source": [
    "core_weather.index"
   ]
  },
  {
   "cell_type": "code",
   "execution_count": 24,
   "id": "6ed877aa-b057-4715-beb3-d42d5d124769",
   "metadata": {},
   "outputs": [],
   "source": [
    "# converting the index to a date time index\n",
    "core_weather.index = pd.to_datetime(core_weather.index)"
   ]
  },
  {
   "cell_type": "code",
   "execution_count": 25,
   "id": "5b2b50b2-bb99-4db4-86df-2a9a5d8a3487",
   "metadata": {},
   "outputs": [
    {
     "data": {
      "text/plain": [
       "DatetimeIndex(['1948-07-17', '1948-07-18', '1948-07-19', '1948-07-20',\n",
       "               '1948-07-21', '1948-07-22', '1948-07-23', '1948-07-24',\n",
       "               '1948-07-25', '1948-07-26',\n",
       "               ...\n",
       "               '2022-09-22', '2022-09-23', '2022-09-24', '2022-09-25',\n",
       "               '2022-09-26', '2022-09-27', '2022-09-28', '2022-09-29',\n",
       "               '2022-09-30', '2022-10-01'],\n",
       "              dtype='datetime64[ns]', name='DATE', length=27105, freq=None)"
      ]
     },
     "execution_count": 25,
     "metadata": {},
     "output_type": "execute_result"
    }
   ],
   "source": [
    "core_weather.index"
   ]
  },
  {
   "cell_type": "markdown",
   "id": "5314a0f0-cc47-48d7-a9d1-d762c0c7ae38",
   "metadata": {},
   "source": [
    "### 3. Analyzing the data"
   ]
  },
  {
   "cell_type": "code",
   "execution_count": 26,
   "id": "2536e0a8-4a24-47f3-8404-2924f2fa57ca",
   "metadata": {},
   "outputs": [
    {
     "data": {
      "text/plain": [
       "<AxesSubplot:xlabel='DATE'>"
      ]
     },
     "execution_count": 26,
     "metadata": {},
     "output_type": "execute_result"
    },
    {
     "data": {
      "image/png": "[encoded data removed]",
      "text/plain": [
       "<Figure size 432x288 with 1 Axes>"
      ]
     },
     "metadata": {
      "needs_background": "light"
     },
     "output_type": "display_data"
    }
   ],
   "source": [
    "core_weather[['temp_max', 'temp_min']].plot()"
   ]
  },
  {
   "cell_type": "code",
   "execution_count": 27,
   "id": "b00b6f0c-69c2-4ca6-a046-a9c891650a61",
   "metadata": {},
   "outputs": [
    {
     "data": {
      "text/plain": [
       "<AxesSubplot:xlabel='DATE'>"
      ]
     },
     "execution_count": 27,
     "metadata": {},
     "output_type": "execute_result"
    },
    {
     "data": {
      "image/png": "[encoded data removed]",
      "text/plain": [
       "<Figure size 432x288 with 1 Axes>"
      ]
     },
     "metadata": {
      "needs_background": "light"
     },
     "output_type": "display_data"
    }
   ],
   "source": [
    "core_weather['precip'].plot()"
   ]
  },
  {
   "cell_type": "code",
   "execution_count": 28,
   "id": "4838ff61-a11a-4b8c-9102-7671ed21a363",
   "metadata": {},
   "outputs": [
    {
     "data": {
      "text/plain": [
       "1948    168\n",
       "1949    365\n",
       "1950    365\n",
       "1951    365\n",
       "1952    366\n",
       "       ... \n",
       "2018    365\n",
       "2019    365\n",
       "2020    366\n",
       "2021    365\n",
       "2022    274\n",
       "Name: DATE, Length: 75, dtype: int64"
      ]
     },
     "execution_count": 28,
     "metadata": {},
     "output_type": "execute_result"
    }
   ],
   "source": [
    "core_weather.index.year.value_counts().sort_index()"
   ]
  },
  {
   "cell_type": "markdown",
   "id": "ac6a758a-fe75-4663-94ac-0f6f166f3464",
   "metadata": {},
   "source": [
    "### 4. Training the model"
   ]
  },
  {
   "cell_type": "code",
   "execution_count": 29,
   "id": "dbf18a85-be13-4b02-bc1e-916bc5291fc0",
   "metadata": {},
   "outputs": [],
   "source": [
    "# creating a new column with the next day's max temperature\n",
    "core_weather['target_temp_max'] = core_weather.shift(-1)['temp_max']"
   ]
  },
  {
   "cell_type": "code",
   "execution_count": 30,
   "id": "9920c82a-1d37-4f9a-93f4-999497274195",
   "metadata": {},
   "outputs": [
    {
     "data": {
      "text/html": [
       "<div>\n",
       "<style scoped>\n",
       "    .dataframe tbody tr th:only-of-type {\n",
       "        vertical-align: middle;\n",
       "    }\n",
       "\n",
       "    .dataframe tbody tr th {\n",
       "        vertical-align: top;\n",
       "    }\n",
       "\n",
       "    .dataframe thead th {\n",
       "        text-align: right;\n",
       "    }\n",
       "</style>\n",
       "<table border=\"1\" class=\"dataframe\">\n",
       "  <thead>\n",
       "    <tr style=\"text-align: right;\">\n",
       "      <th></th>\n",
       "      <th>precip</th>\n",
       "      <th>snow</th>\n",
       "      <th>snow_depth</th>\n",
       "      <th>temp_max</th>\n",
       "      <th>temp_min</th>\n",
       "      <th>target_temp_max</th>\n",
       "    </tr>\n",
       "    <tr>\n",
       "      <th>DATE</th>\n",
       "      <th></th>\n",
       "      <th></th>\n",
       "      <th></th>\n",
       "      <th></th>\n",
       "      <th></th>\n",
       "      <th></th>\n",
       "    </tr>\n",
       "  </thead>\n",
       "  <tbody>\n",
       "    <tr>\n",
       "      <th>1948-07-17</th>\n",
       "      <td>0.06</td>\n",
       "      <td>0.0</td>\n",
       "      <td>0.0</td>\n",
       "      <td>74.0</td>\n",
       "      <td>64.0</td>\n",
       "      <td>81.0</td>\n",
       "    </tr>\n",
       "    <tr>\n",
       "      <th>1948-07-18</th>\n",
       "      <td>0.00</td>\n",
       "      <td>0.0</td>\n",
       "      <td>0.0</td>\n",
       "      <td>81.0</td>\n",
       "      <td>70.0</td>\n",
       "      <td>85.0</td>\n",
       "    </tr>\n",
       "    <tr>\n",
       "      <th>1948-07-19</th>\n",
       "      <td>0.00</td>\n",
       "      <td>0.0</td>\n",
       "      <td>0.0</td>\n",
       "      <td>85.0</td>\n",
       "      <td>70.0</td>\n",
       "      <td>84.0</td>\n",
       "    </tr>\n",
       "    <tr>\n",
       "      <th>1948-07-20</th>\n",
       "      <td>0.00</td>\n",
       "      <td>0.0</td>\n",
       "      <td>0.0</td>\n",
       "      <td>84.0</td>\n",
       "      <td>69.0</td>\n",
       "      <td>85.0</td>\n",
       "    </tr>\n",
       "    <tr>\n",
       "      <th>1948-07-21</th>\n",
       "      <td>2.45</td>\n",
       "      <td>0.0</td>\n",
       "      <td>0.0</td>\n",
       "      <td>85.0</td>\n",
       "      <td>71.0</td>\n",
       "      <td>81.0</td>\n",
       "    </tr>\n",
       "    <tr>\n",
       "      <th>...</th>\n",
       "      <td>...</td>\n",
       "      <td>...</td>\n",
       "      <td>...</td>\n",
       "      <td>...</td>\n",
       "      <td>...</td>\n",
       "      <td>...</td>\n",
       "    </tr>\n",
       "    <tr>\n",
       "      <th>2022-09-27</th>\n",
       "      <td>0.00</td>\n",
       "      <td>0.0</td>\n",
       "      <td>0.0</td>\n",
       "      <td>72.0</td>\n",
       "      <td>60.0</td>\n",
       "      <td>73.0</td>\n",
       "    </tr>\n",
       "    <tr>\n",
       "      <th>2022-09-28</th>\n",
       "      <td>0.00</td>\n",
       "      <td>0.0</td>\n",
       "      <td>0.0</td>\n",
       "      <td>73.0</td>\n",
       "      <td>54.0</td>\n",
       "      <td>68.0</td>\n",
       "    </tr>\n",
       "    <tr>\n",
       "      <th>2022-09-29</th>\n",
       "      <td>0.00</td>\n",
       "      <td>0.0</td>\n",
       "      <td>0.0</td>\n",
       "      <td>68.0</td>\n",
       "      <td>56.0</td>\n",
       "      <td>64.0</td>\n",
       "    </tr>\n",
       "    <tr>\n",
       "      <th>2022-09-30</th>\n",
       "      <td>0.00</td>\n",
       "      <td>0.0</td>\n",
       "      <td>0.0</td>\n",
       "      <td>64.0</td>\n",
       "      <td>54.0</td>\n",
       "      <td>60.0</td>\n",
       "    </tr>\n",
       "    <tr>\n",
       "      <th>2022-10-01</th>\n",
       "      <td>0.89</td>\n",
       "      <td>0.0</td>\n",
       "      <td>0.0</td>\n",
       "      <td>60.0</td>\n",
       "      <td>53.0</td>\n",
       "      <td>NaN</td>\n",
       "    </tr>\n",
       "  </tbody>\n",
       "</table>\n",
       "<p>27105 rows × 6 columns</p>\n",
       "</div>"
      ],
      "text/plain": [
       "            precip  snow  snow_depth  temp_max  temp_min  target_temp_max\n",
       "DATE                                                                     \n",
       "1948-07-17    0.06   0.0         0.0      74.0      64.0             81.0\n",
       "1948-07-18    0.00   0.0         0.0      81.0      70.0             85.0\n",
       "1948-07-19    0.00   0.0         0.0      85.0      70.0             84.0\n",
       "1948-07-20    0.00   0.0         0.0      84.0      69.0             85.0\n",
       "1948-07-21    2.45   0.0         0.0      85.0      71.0             81.0\n",
       "...            ...   ...         ...       ...       ...              ...\n",
       "2022-09-27    0.00   0.0         0.0      72.0      60.0             73.0\n",
       "2022-09-28    0.00   0.0         0.0      73.0      54.0             68.0\n",
       "2022-09-29    0.00   0.0         0.0      68.0      56.0             64.0\n",
       "2022-09-30    0.00   0.0         0.0      64.0      54.0             60.0\n",
       "2022-10-01    0.89   0.0         0.0      60.0      53.0              NaN\n",
       "\n",
       "[27105 rows x 6 columns]"
      ]
     },
     "execution_count": 30,
     "metadata": {},
     "output_type": "execute_result"
    }
   ],
   "source": [
    "core_weather"
   ]
  },
  {
   "cell_type": "code",
   "execution_count": 31,
   "id": "88c14dda-13e8-4b15-b253-84b809921aab",
   "metadata": {},
   "outputs": [],
   "source": [
    "# cutting out the last row to remove the null value\n",
    "core_weather = core_weather.iloc[:-1,:].copy()"
   ]
  },
  {
   "cell_type": "code",
   "execution_count": 32,
   "id": "a1dc5260-6f7f-4207-a6e5-b7ad241b70cd",
   "metadata": {},
   "outputs": [
    {
     "data": {
      "text/html": [
       "<div>\n",
       "<style scoped>\n",
       "    .dataframe tbody tr th:only-of-type {\n",
       "        vertical-align: middle;\n",
       "    }\n",
       "\n",
       "    .dataframe tbody tr th {\n",
       "        vertical-align: top;\n",
       "    }\n",
       "\n",
       "    .dataframe thead th {\n",
       "        text-align: right;\n",
       "    }\n",
       "</style>\n",
       "<table border=\"1\" class=\"dataframe\">\n",
       "  <thead>\n",
       "    <tr style=\"text-align: right;\">\n",
       "      <th></th>\n",
       "      <th>precip</th>\n",
       "      <th>snow</th>\n",
       "      <th>snow_depth</th>\n",
       "      <th>temp_max</th>\n",
       "      <th>temp_min</th>\n",
       "      <th>target_temp_max</th>\n",
       "    </tr>\n",
       "    <tr>\n",
       "      <th>DATE</th>\n",
       "      <th></th>\n",
       "      <th></th>\n",
       "      <th></th>\n",
       "      <th></th>\n",
       "      <th></th>\n",
       "      <th></th>\n",
       "    </tr>\n",
       "  </thead>\n",
       "  <tbody>\n",
       "    <tr>\n",
       "      <th>1948-07-17</th>\n",
       "      <td>0.06</td>\n",
       "      <td>0.0</td>\n",
       "      <td>0.0</td>\n",
       "      <td>74.0</td>\n",
       "      <td>64.0</td>\n",
       "      <td>81.0</td>\n",
       "    </tr>\n",
       "    <tr>\n",
       "      <th>1948-07-18</th>\n",
       "      <td>0.00</td>\n",
       "      <td>0.0</td>\n",
       "      <td>0.0</td>\n",
       "      <td>81.0</td>\n",
       "      <td>70.0</td>\n",
       "      <td>85.0</td>\n",
       "    </tr>\n",
       "    <tr>\n",
       "      <th>1948-07-19</th>\n",
       "      <td>0.00</td>\n",
       "      <td>0.0</td>\n",
       "      <td>0.0</td>\n",
       "      <td>85.0</td>\n",
       "      <td>70.0</td>\n",
       "      <td>84.0</td>\n",
       "    </tr>\n",
       "    <tr>\n",
       "      <th>1948-07-20</th>\n",
       "      <td>0.00</td>\n",
       "      <td>0.0</td>\n",
       "      <td>0.0</td>\n",
       "      <td>84.0</td>\n",
       "      <td>69.0</td>\n",
       "      <td>85.0</td>\n",
       "    </tr>\n",
       "    <tr>\n",
       "      <th>1948-07-21</th>\n",
       "      <td>2.45</td>\n",
       "      <td>0.0</td>\n",
       "      <td>0.0</td>\n",
       "      <td>85.0</td>\n",
       "      <td>71.0</td>\n",
       "      <td>81.0</td>\n",
       "    </tr>\n",
       "    <tr>\n",
       "      <th>...</th>\n",
       "      <td>...</td>\n",
       "      <td>...</td>\n",
       "      <td>...</td>\n",
       "      <td>...</td>\n",
       "      <td>...</td>\n",
       "      <td>...</td>\n",
       "    </tr>\n",
       "    <tr>\n",
       "      <th>2022-09-26</th>\n",
       "      <td>0.00</td>\n",
       "      <td>0.0</td>\n",
       "      <td>0.0</td>\n",
       "      <td>75.0</td>\n",
       "      <td>59.0</td>\n",
       "      <td>72.0</td>\n",
       "    </tr>\n",
       "    <tr>\n",
       "      <th>2022-09-27</th>\n",
       "      <td>0.00</td>\n",
       "      <td>0.0</td>\n",
       "      <td>0.0</td>\n",
       "      <td>72.0</td>\n",
       "      <td>60.0</td>\n",
       "      <td>73.0</td>\n",
       "    </tr>\n",
       "    <tr>\n",
       "      <th>2022-09-28</th>\n",
       "      <td>0.00</td>\n",
       "      <td>0.0</td>\n",
       "      <td>0.0</td>\n",
       "      <td>73.0</td>\n",
       "      <td>54.0</td>\n",
       "      <td>68.0</td>\n",
       "    </tr>\n",
       "    <tr>\n",
       "      <th>2022-09-29</th>\n",
       "      <td>0.00</td>\n",
       "      <td>0.0</td>\n",
       "      <td>0.0</td>\n",
       "      <td>68.0</td>\n",
       "      <td>56.0</td>\n",
       "      <td>64.0</td>\n",
       "    </tr>\n",
       "    <tr>\n",
       "      <th>2022-09-30</th>\n",
       "      <td>0.00</td>\n",
       "      <td>0.0</td>\n",
       "      <td>0.0</td>\n",
       "      <td>64.0</td>\n",
       "      <td>54.0</td>\n",
       "      <td>60.0</td>\n",
       "    </tr>\n",
       "  </tbody>\n",
       "</table>\n",
       "<p>27104 rows × 6 columns</p>\n",
       "</div>"
      ],
      "text/plain": [
       "            precip  snow  snow_depth  temp_max  temp_min  target_temp_max\n",
       "DATE                                                                     \n",
       "1948-07-17    0.06   0.0         0.0      74.0      64.0             81.0\n",
       "1948-07-18    0.00   0.0         0.0      81.0      70.0             85.0\n",
       "1948-07-19    0.00   0.0         0.0      85.0      70.0             84.0\n",
       "1948-07-20    0.00   0.0         0.0      84.0      69.0             85.0\n",
       "1948-07-21    2.45   0.0         0.0      85.0      71.0             81.0\n",
       "...            ...   ...         ...       ...       ...              ...\n",
       "2022-09-26    0.00   0.0         0.0      75.0      59.0             72.0\n",
       "2022-09-27    0.00   0.0         0.0      72.0      60.0             73.0\n",
       "2022-09-28    0.00   0.0         0.0      73.0      54.0             68.0\n",
       "2022-09-29    0.00   0.0         0.0      68.0      56.0             64.0\n",
       "2022-09-30    0.00   0.0         0.0      64.0      54.0             60.0\n",
       "\n",
       "[27104 rows x 6 columns]"
      ]
     },
     "execution_count": 32,
     "metadata": {},
     "output_type": "execute_result"
    }
   ],
   "source": [
    "core_weather"
   ]
  },
  {
   "cell_type": "code",
   "execution_count": 33,
   "id": "2e16fc19-a556-47a0-83ce-85b7c966ed1a",
   "metadata": {},
   "outputs": [],
   "source": [
    "# importing the regresion model\n",
    "from sklearn.linear_model import Ridge"
   ]
  },
  {
   "cell_type": "code",
   "execution_count": 34,
   "id": "f67c9fb1-83b5-46a2-80e7-fe5cce56173c",
   "metadata": {},
   "outputs": [],
   "source": [
    "# initialising the model \n",
    "regression = Ridge(alpha = .1)"
   ]
  },
  {
   "cell_type": "code",
   "execution_count": 35,
   "id": "237366fc-4b03-4777-8cb3-5964edfbe306",
   "metadata": {},
   "outputs": [],
   "source": [
    "# creating a predictiors variable\n",
    "predictors = ['precip', 'snow', 'snow_depth', 'temp_max', 'temp_min']"
   ]
  },
  {
   "cell_type": "code",
   "execution_count": 36,
   "id": "8f6b78eb-d0ee-4fa0-abaf-a2f3879eb4dc",
   "metadata": {},
   "outputs": [],
   "source": [
    "# splitting data into training and testing set\n",
    "train = core_weather.loc[:'2019-12-31']\n",
    "test = core_weather.loc['2020-01-01':]"
   ]
  },
  {
   "cell_type": "code",
   "execution_count": 37,
   "id": "ebbbe2d7-1e8e-4509-80f6-ab469e80fcec",
   "metadata": {},
   "outputs": [
    {
     "data": {
      "text/plain": [
       "Ridge(alpha=0.1)"
      ]
     },
     "execution_count": 37,
     "metadata": {},
     "output_type": "execute_result"
    }
   ],
   "source": [
    "# fitting the model to the data\n",
    "regression.fit(train[predictors], train['target_temp_max'])"
   ]
  },
  {
   "cell_type": "code",
   "execution_count": 38,
   "id": "99a6a113-46f3-4fde-9ca3-471d8383f2bc",
   "metadata": {},
   "outputs": [],
   "source": [
    "# generating predictions on the test data\n",
    "predictions = regression.predict(test[predictors])"
   ]
  },
  {
   "cell_type": "markdown",
   "id": "f922bda2-93dc-48fc-8956-0e67e143a860",
   "metadata": {},
   "source": [
    "### 5. Evaluating the model"
   ]
  },
  {
   "cell_type": "code",
   "execution_count": 111,
   "id": "ec7722f5-539a-4149-956d-8c8261fb6c7c",
   "metadata": {},
   "outputs": [],
   "source": [
    "# checking how well the model performed\n",
    "# importing mean absolute error and mean squared error\n",
    "from sklearn.metrics import mean_absolute_error, mean_squared_error"
   ]
  },
  {
   "cell_type": "code",
   "execution_count": 40,
   "id": "e9529284-fd64-48cf-88da-0c65fa7a5d52",
   "metadata": {},
   "outputs": [
    {
     "data": {
      "text/plain": [
       "5.186974206033209"
      ]
     },
     "execution_count": 40,
     "metadata": {},
     "output_type": "execute_result"
    }
   ],
   "source": [
    "mean_absolute_error(test['target_temp_max'],predictions)"
   ]
  },
  {
   "cell_type": "code",
   "execution_count": 41,
   "id": "357ee53d-61dc-41a9-a0c1-0d6e291cb0e5",
   "metadata": {},
   "outputs": [],
   "source": [
    "# combining actual data and predicted data \n",
    "combine = pd.concat([test['target_temp_max'], pd.Series(predictions, index = test.index)], axis = 1)\n",
    "combine.columns = ['actual', 'predictions']"
   ]
  },
  {
   "cell_type": "code",
   "execution_count": 42,
   "id": "3679c087-d06e-472c-b5ff-b7881f04e4d1",
   "metadata": {},
   "outputs": [
    {
     "data": {
      "text/html": [
       "<div>\n",
       "<style scoped>\n",
       "    .dataframe tbody tr th:only-of-type {\n",
       "        vertical-align: middle;\n",
       "    }\n",
       "\n",
       "    .dataframe tbody tr th {\n",
       "        vertical-align: top;\n",
       "    }\n",
       "\n",
       "    .dataframe thead th {\n",
       "        text-align: right;\n",
       "    }\n",
       "</style>\n",
       "<table border=\"1\" class=\"dataframe\">\n",
       "  <thead>\n",
       "    <tr style=\"text-align: right;\">\n",
       "      <th></th>\n",
       "      <th>actual</th>\n",
       "      <th>predictions</th>\n",
       "    </tr>\n",
       "    <tr>\n",
       "      <th>DATE</th>\n",
       "      <th></th>\n",
       "      <th></th>\n",
       "    </tr>\n",
       "  </thead>\n",
       "  <tbody>\n",
       "    <tr>\n",
       "      <th>2020-01-01</th>\n",
       "      <td>48.0</td>\n",
       "      <td>45.833827</td>\n",
       "    </tr>\n",
       "    <tr>\n",
       "      <th>2020-01-02</th>\n",
       "      <td>48.0</td>\n",
       "      <td>47.211676</td>\n",
       "    </tr>\n",
       "    <tr>\n",
       "      <th>2020-01-03</th>\n",
       "      <td>51.0</td>\n",
       "      <td>52.476779</td>\n",
       "    </tr>\n",
       "    <tr>\n",
       "      <th>2020-01-04</th>\n",
       "      <td>49.0</td>\n",
       "      <td>54.361807</td>\n",
       "    </tr>\n",
       "    <tr>\n",
       "      <th>2020-01-05</th>\n",
       "      <td>45.0</td>\n",
       "      <td>49.655068</td>\n",
       "    </tr>\n",
       "    <tr>\n",
       "      <th>...</th>\n",
       "      <td>...</td>\n",
       "      <td>...</td>\n",
       "    </tr>\n",
       "    <tr>\n",
       "      <th>2022-09-26</th>\n",
       "      <td>72.0</td>\n",
       "      <td>73.827696</td>\n",
       "    </tr>\n",
       "    <tr>\n",
       "      <th>2022-09-27</th>\n",
       "      <td>73.0</td>\n",
       "      <td>72.892799</td>\n",
       "    </tr>\n",
       "    <tr>\n",
       "      <th>2022-09-28</th>\n",
       "      <td>68.0</td>\n",
       "      <td>70.416745</td>\n",
       "    </tr>\n",
       "    <tr>\n",
       "      <th>2022-09-29</th>\n",
       "      <td>64.0</td>\n",
       "      <td>69.022565</td>\n",
       "    </tr>\n",
       "    <tr>\n",
       "      <th>2022-09-30</th>\n",
       "      <td>60.0</td>\n",
       "      <td>66.136221</td>\n",
       "    </tr>\n",
       "  </tbody>\n",
       "</table>\n",
       "<p>1004 rows × 2 columns</p>\n",
       "</div>"
      ],
      "text/plain": [
       "            actual  predictions\n",
       "DATE                           \n",
       "2020-01-01    48.0    45.833827\n",
       "2020-01-02    48.0    47.211676\n",
       "2020-01-03    51.0    52.476779\n",
       "2020-01-04    49.0    54.361807\n",
       "2020-01-05    45.0    49.655068\n",
       "...            ...          ...\n",
       "2022-09-26    72.0    73.827696\n",
       "2022-09-27    73.0    72.892799\n",
       "2022-09-28    68.0    70.416745\n",
       "2022-09-29    64.0    69.022565\n",
       "2022-09-30    60.0    66.136221\n",
       "\n",
       "[1004 rows x 2 columns]"
      ]
     },
     "execution_count": 42,
     "metadata": {},
     "output_type": "execute_result"
    }
   ],
   "source": [
    "combine"
   ]
  },
  {
   "cell_type": "code",
   "execution_count": 43,
   "id": "b81d1553-204d-451e-88dc-f1032e58efbb",
   "metadata": {},
   "outputs": [
    {
     "data": {
      "text/plain": [
       "<AxesSubplot:xlabel='DATE'>"
      ]
     },
     "execution_count": 43,
     "metadata": {},
     "output_type": "execute_result"
    },
    {
     "data": {
      "image/png": "[encoded data removed]",
      "text/plain": [
       "<Figure size 432x288 with 1 Axes>"
      ]
     },
     "metadata": {
      "needs_background": "light"
     },
     "output_type": "display_data"
    }
   ],
   "source": [
    "combine.plot()"
   ]
  },
  {
   "cell_type": "code",
   "execution_count": 44,
   "id": "7ff732d7-e1c7-4cec-85e4-863a23fee060",
   "metadata": {},
   "outputs": [
    {
     "data": {
      "text/plain": [
       "array([-1.12528365, -0.39864591,  0.07262749,  0.47561379,  0.49194453])"
      ]
     },
     "execution_count": 44,
     "metadata": {},
     "output_type": "execute_result"
    }
   ],
   "source": [
    "# checking the coefficients of the model\n",
    "regression.coef_"
   ]
  },
  {
   "cell_type": "code",
   "execution_count": 119,
   "id": "eefc20cf-ccdc-48ca-b901-ae97d4c68347",
   "metadata": {},
   "outputs": [],
   "source": [
    "# creating a function for predictions\n",
    "def create_predictions(predictors, core_weather, regression):\n",
    "    train = core_weather.loc[:'2019-12-31']\n",
    "    test = core_weather.loc['2020-01-01':]\n",
    "    regression.fit(train[predictors], train['target_temp_max'])\n",
    "    predictions = regression.predict(test[predictors])\n",
    "    mae = mean_absolute_error(test['target_temp_max'],predictions)\n",
    "    combine = pd.concat([test['target_temp_max'], pd.Series(predictions, index = test.index)], axis = 1)\n",
    "    combine.columns = ['actual', 'predictions']\n",
    "    return mae, combine"
   ]
  },
  {
   "cell_type": "markdown",
   "id": "d9f69a4d-3a9f-41b1-9bb8-c1a808d8cf94",
   "metadata": {},
   "source": [
    "### 6. Improving the model"
   ]
  },
  {
   "cell_type": "code",
   "execution_count": 120,
   "id": "c092d085-8b9d-4a40-9dcb-451bc24b428f",
   "metadata": {},
   "outputs": [],
   "source": [
    "mae, combine = create_predictions(predictors, core_weather, regression)"
   ]
  },
  {
   "cell_type": "code",
   "execution_count": 48,
   "id": "405d3f3f-fcfd-4d08-8539-25e7a10f24f6",
   "metadata": {},
   "outputs": [
    {
     "data": {
      "text/plain": [
       "5.186974206033209"
      ]
     },
     "execution_count": 48,
     "metadata": {},
     "output_type": "execute_result"
    }
   ],
   "source": [
    "mae"
   ]
  },
  {
   "cell_type": "code",
   "execution_count": 62,
   "id": "feb449eb-8b8a-4025-897e-18a1543f9b0b",
   "metadata": {},
   "outputs": [],
   "source": [
    "# creating new columns \n",
    "core_weather['month_max'] = core_weather['temp_max'].rolling(30).mean()"
   ]
  },
  {
   "cell_type": "code",
   "execution_count": 63,
   "id": "35ad73f6-8911-449d-8e54-c0bd8acd7ef6",
   "metadata": {},
   "outputs": [],
   "source": [
    "core_weather['month_day_max'] = core_weather['month_max']/core_weather['temp_max']"
   ]
  },
  {
   "cell_type": "code",
   "execution_count": 64,
   "id": "9793dfa7-213c-47f2-9d91-0b692ccf7011",
   "metadata": {},
   "outputs": [
    {
     "data": {
      "text/html": [
       "<div>\n",
       "<style scoped>\n",
       "    .dataframe tbody tr th:only-of-type {\n",
       "        vertical-align: middle;\n",
       "    }\n",
       "\n",
       "    .dataframe tbody tr th {\n",
       "        vertical-align: top;\n",
       "    }\n",
       "\n",
       "    .dataframe thead th {\n",
       "        text-align: right;\n",
       "    }\n",
       "</style>\n",
       "<table border=\"1\" class=\"dataframe\">\n",
       "  <thead>\n",
       "    <tr style=\"text-align: right;\">\n",
       "      <th></th>\n",
       "      <th>precip</th>\n",
       "      <th>snow</th>\n",
       "      <th>snow_depth</th>\n",
       "      <th>temp_max</th>\n",
       "      <th>temp_min</th>\n",
       "      <th>target_temp_max</th>\n",
       "      <th>month_max</th>\n",
       "      <th>month_day_max</th>\n",
       "    </tr>\n",
       "    <tr>\n",
       "      <th>DATE</th>\n",
       "      <th></th>\n",
       "      <th></th>\n",
       "      <th></th>\n",
       "      <th></th>\n",
       "      <th></th>\n",
       "      <th></th>\n",
       "      <th></th>\n",
       "      <th></th>\n",
       "    </tr>\n",
       "  </thead>\n",
       "  <tbody>\n",
       "    <tr>\n",
       "      <th>1948-10-15</th>\n",
       "      <td>0.00</td>\n",
       "      <td>0.0</td>\n",
       "      <td>0.0</td>\n",
       "      <td>62.0</td>\n",
       "      <td>48.0</td>\n",
       "      <td>63.0</td>\n",
       "      <td>NaN</td>\n",
       "      <td>NaN</td>\n",
       "    </tr>\n",
       "    <tr>\n",
       "      <th>1948-10-16</th>\n",
       "      <td>0.00</td>\n",
       "      <td>0.0</td>\n",
       "      <td>0.0</td>\n",
       "      <td>63.0</td>\n",
       "      <td>42.0</td>\n",
       "      <td>67.0</td>\n",
       "      <td>NaN</td>\n",
       "      <td>NaN</td>\n",
       "    </tr>\n",
       "    <tr>\n",
       "      <th>1948-10-17</th>\n",
       "      <td>0.00</td>\n",
       "      <td>0.0</td>\n",
       "      <td>0.0</td>\n",
       "      <td>67.0</td>\n",
       "      <td>56.0</td>\n",
       "      <td>63.0</td>\n",
       "      <td>NaN</td>\n",
       "      <td>NaN</td>\n",
       "    </tr>\n",
       "    <tr>\n",
       "      <th>1948-10-18</th>\n",
       "      <td>0.14</td>\n",
       "      <td>0.0</td>\n",
       "      <td>0.0</td>\n",
       "      <td>63.0</td>\n",
       "      <td>38.0</td>\n",
       "      <td>50.0</td>\n",
       "      <td>NaN</td>\n",
       "      <td>NaN</td>\n",
       "    </tr>\n",
       "    <tr>\n",
       "      <th>1948-10-19</th>\n",
       "      <td>0.00</td>\n",
       "      <td>0.0</td>\n",
       "      <td>0.0</td>\n",
       "      <td>50.0</td>\n",
       "      <td>33.0</td>\n",
       "      <td>52.0</td>\n",
       "      <td>NaN</td>\n",
       "      <td>NaN</td>\n",
       "    </tr>\n",
       "    <tr>\n",
       "      <th>...</th>\n",
       "      <td>...</td>\n",
       "      <td>...</td>\n",
       "      <td>...</td>\n",
       "      <td>...</td>\n",
       "      <td>...</td>\n",
       "      <td>...</td>\n",
       "      <td>...</td>\n",
       "      <td>...</td>\n",
       "    </tr>\n",
       "    <tr>\n",
       "      <th>2022-09-26</th>\n",
       "      <td>0.00</td>\n",
       "      <td>0.0</td>\n",
       "      <td>0.0</td>\n",
       "      <td>75.0</td>\n",
       "      <td>59.0</td>\n",
       "      <td>72.0</td>\n",
       "      <td>80.133333</td>\n",
       "      <td>1.068444</td>\n",
       "    </tr>\n",
       "    <tr>\n",
       "      <th>2022-09-27</th>\n",
       "      <td>0.00</td>\n",
       "      <td>0.0</td>\n",
       "      <td>0.0</td>\n",
       "      <td>72.0</td>\n",
       "      <td>60.0</td>\n",
       "      <td>73.0</td>\n",
       "      <td>79.766667</td>\n",
       "      <td>1.107870</td>\n",
       "    </tr>\n",
       "    <tr>\n",
       "      <th>2022-09-28</th>\n",
       "      <td>0.00</td>\n",
       "      <td>0.0</td>\n",
       "      <td>0.0</td>\n",
       "      <td>73.0</td>\n",
       "      <td>54.0</td>\n",
       "      <td>68.0</td>\n",
       "      <td>79.366667</td>\n",
       "      <td>1.087215</td>\n",
       "    </tr>\n",
       "    <tr>\n",
       "      <th>2022-09-29</th>\n",
       "      <td>0.00</td>\n",
       "      <td>0.0</td>\n",
       "      <td>0.0</td>\n",
       "      <td>68.0</td>\n",
       "      <td>56.0</td>\n",
       "      <td>64.0</td>\n",
       "      <td>78.766667</td>\n",
       "      <td>1.158333</td>\n",
       "    </tr>\n",
       "    <tr>\n",
       "      <th>2022-09-30</th>\n",
       "      <td>0.00</td>\n",
       "      <td>0.0</td>\n",
       "      <td>0.0</td>\n",
       "      <td>64.0</td>\n",
       "      <td>54.0</td>\n",
       "      <td>60.0</td>\n",
       "      <td>77.966667</td>\n",
       "      <td>1.218229</td>\n",
       "    </tr>\n",
       "  </tbody>\n",
       "</table>\n",
       "<p>27014 rows × 8 columns</p>\n",
       "</div>"
      ],
      "text/plain": [
       "            precip  snow  snow_depth  temp_max  temp_min  target_temp_max  \\\n",
       "DATE                                                                        \n",
       "1948-10-15    0.00   0.0         0.0      62.0      48.0             63.0   \n",
       "1948-10-16    0.00   0.0         0.0      63.0      42.0             67.0   \n",
       "1948-10-17    0.00   0.0         0.0      67.0      56.0             63.0   \n",
       "1948-10-18    0.14   0.0         0.0      63.0      38.0             50.0   \n",
       "1948-10-19    0.00   0.0         0.0      50.0      33.0             52.0   \n",
       "...            ...   ...         ...       ...       ...              ...   \n",
       "2022-09-26    0.00   0.0         0.0      75.0      59.0             72.0   \n",
       "2022-09-27    0.00   0.0         0.0      72.0      60.0             73.0   \n",
       "2022-09-28    0.00   0.0         0.0      73.0      54.0             68.0   \n",
       "2022-09-29    0.00   0.0         0.0      68.0      56.0             64.0   \n",
       "2022-09-30    0.00   0.0         0.0      64.0      54.0             60.0   \n",
       "\n",
       "            month_max  month_day_max  \n",
       "DATE                                  \n",
       "1948-10-15        NaN            NaN  \n",
       "1948-10-16        NaN            NaN  \n",
       "1948-10-17        NaN            NaN  \n",
       "1948-10-18        NaN            NaN  \n",
       "1948-10-19        NaN            NaN  \n",
       "...               ...            ...  \n",
       "2022-09-26  80.133333       1.068444  \n",
       "2022-09-27  79.766667       1.107870  \n",
       "2022-09-28  79.366667       1.087215  \n",
       "2022-09-29  78.766667       1.158333  \n",
       "2022-09-30  77.966667       1.218229  \n",
       "\n",
       "[27014 rows x 8 columns]"
      ]
     },
     "execution_count": 64,
     "metadata": {},
     "output_type": "execute_result"
    }
   ],
   "source": [
    "core_weather"
   ]
  },
  {
   "cell_type": "code",
   "execution_count": 65,
   "id": "4dfa3446-6fc0-4e47-bf20-b0d02691469a",
   "metadata": {},
   "outputs": [],
   "source": [
    "core_weather = core_weather.iloc[30:,:].copy()"
   ]
  },
  {
   "cell_type": "code",
   "execution_count": 66,
   "id": "27108849-65b8-4549-a994-d8186903bb12",
   "metadata": {},
   "outputs": [],
   "source": [
    "predictors = ['precip', 'snow', 'snow_depth', 'temp_max', 'temp_min', 'month_max', 'month_day_max']"
   ]
  },
  {
   "cell_type": "code",
   "execution_count": 67,
   "id": "02debec1-16b7-440f-bbbc-dec27f7389c4",
   "metadata": {},
   "outputs": [],
   "source": [
    "mae, combine = create_predictions(predictors, core_weather, regression)"
   ]
  },
  {
   "cell_type": "code",
   "execution_count": 68,
   "id": "fdf2fbaa-a32c-4e50-80aa-52c2a4bb7dbe",
   "metadata": {},
   "outputs": [
    {
     "data": {
      "text/plain": [
       "4.998567114986366"
      ]
     },
     "execution_count": 68,
     "metadata": {},
     "output_type": "execute_result"
    }
   ],
   "source": [
    "mae"
   ]
  },
  {
   "cell_type": "code",
   "execution_count": 69,
   "id": "d996aad3-9be4-4ee2-92d5-1173b368d365",
   "metadata": {},
   "outputs": [
    {
     "data": {
      "text/plain": [
       "<AxesSubplot:xlabel='DATE'>"
      ]
     },
     "execution_count": 69,
     "metadata": {},
     "output_type": "execute_result"
    },
    {
     "data": {
      "image/png": "[encoded data removed]",
      "text/plain": [
       "<Figure size 432x288 with 1 Axes>"
      ]
     },
     "metadata": {
      "needs_background": "light"
     },
     "output_type": "display_data"
    }
   ],
   "source": [
    "combine.plot()"
   ]
  },
  {
   "cell_type": "code",
   "execution_count": 73,
   "id": "c93b0af6-4dfd-42bb-b9f4-7b9ee686d1f4",
   "metadata": {},
   "outputs": [],
   "source": [
    "# creating more columns \n",
    "core_weather['monthly_avg'] = core_weather['temp_max'].groupby(core_weather.index.month).apply(lambda x: x.expanding(1).mean())"
   ]
  },
  {
   "cell_type": "code",
   "execution_count": 74,
   "id": "d9c7381b-fdcb-4bdb-8e70-1bd5ca3254e5",
   "metadata": {},
   "outputs": [
    {
     "data": {
      "text/html": [
       "<div>\n",
       "<style scoped>\n",
       "    .dataframe tbody tr th:only-of-type {\n",
       "        vertical-align: middle;\n",
       "    }\n",
       "\n",
       "    .dataframe tbody tr th {\n",
       "        vertical-align: top;\n",
       "    }\n",
       "\n",
       "    .dataframe thead th {\n",
       "        text-align: right;\n",
       "    }\n",
       "</style>\n",
       "<table border=\"1\" class=\"dataframe\">\n",
       "  <thead>\n",
       "    <tr style=\"text-align: right;\">\n",
       "      <th></th>\n",
       "      <th>precip</th>\n",
       "      <th>snow</th>\n",
       "      <th>snow_depth</th>\n",
       "      <th>temp_max</th>\n",
       "      <th>temp_min</th>\n",
       "      <th>target_temp_max</th>\n",
       "      <th>month_max</th>\n",
       "      <th>month_day_max</th>\n",
       "      <th>monthly_avg</th>\n",
       "      <th>day_of_year_avg</th>\n",
       "    </tr>\n",
       "    <tr>\n",
       "      <th>DATE</th>\n",
       "      <th></th>\n",
       "      <th></th>\n",
       "      <th></th>\n",
       "      <th></th>\n",
       "      <th></th>\n",
       "      <th></th>\n",
       "      <th></th>\n",
       "      <th></th>\n",
       "      <th></th>\n",
       "      <th></th>\n",
       "    </tr>\n",
       "  </thead>\n",
       "  <tbody>\n",
       "    <tr>\n",
       "      <th>1948-11-14</th>\n",
       "      <td>0.00</td>\n",
       "      <td>0.0</td>\n",
       "      <td>0.0</td>\n",
       "      <td>52.0</td>\n",
       "      <td>40.0</td>\n",
       "      <td>58.0</td>\n",
       "      <td>60.466667</td>\n",
       "      <td>1.162821</td>\n",
       "      <td>52.000000</td>\n",
       "      <td>52.000000</td>\n",
       "    </tr>\n",
       "    <tr>\n",
       "      <th>1948-11-15</th>\n",
       "      <td>0.00</td>\n",
       "      <td>0.0</td>\n",
       "      <td>0.0</td>\n",
       "      <td>58.0</td>\n",
       "      <td>42.0</td>\n",
       "      <td>55.0</td>\n",
       "      <td>60.300000</td>\n",
       "      <td>1.039655</td>\n",
       "      <td>55.000000</td>\n",
       "      <td>58.000000</td>\n",
       "    </tr>\n",
       "    <tr>\n",
       "      <th>1948-11-16</th>\n",
       "      <td>0.00</td>\n",
       "      <td>0.0</td>\n",
       "      <td>0.0</td>\n",
       "      <td>55.0</td>\n",
       "      <td>42.0</td>\n",
       "      <td>60.0</td>\n",
       "      <td>59.900000</td>\n",
       "      <td>1.089091</td>\n",
       "      <td>55.000000</td>\n",
       "      <td>55.000000</td>\n",
       "    </tr>\n",
       "    <tr>\n",
       "      <th>1948-11-17</th>\n",
       "      <td>0.02</td>\n",
       "      <td>0.0</td>\n",
       "      <td>0.0</td>\n",
       "      <td>60.0</td>\n",
       "      <td>45.0</td>\n",
       "      <td>62.0</td>\n",
       "      <td>59.800000</td>\n",
       "      <td>0.996667</td>\n",
       "      <td>56.250000</td>\n",
       "      <td>60.000000</td>\n",
       "    </tr>\n",
       "    <tr>\n",
       "      <th>1948-11-18</th>\n",
       "      <td>0.00</td>\n",
       "      <td>0.0</td>\n",
       "      <td>0.0</td>\n",
       "      <td>62.0</td>\n",
       "      <td>40.0</td>\n",
       "      <td>62.0</td>\n",
       "      <td>60.200000</td>\n",
       "      <td>0.970968</td>\n",
       "      <td>57.400000</td>\n",
       "      <td>62.000000</td>\n",
       "    </tr>\n",
       "    <tr>\n",
       "      <th>...</th>\n",
       "      <td>...</td>\n",
       "      <td>...</td>\n",
       "      <td>...</td>\n",
       "      <td>...</td>\n",
       "      <td>...</td>\n",
       "      <td>...</td>\n",
       "      <td>...</td>\n",
       "      <td>...</td>\n",
       "      <td>...</td>\n",
       "      <td>...</td>\n",
       "    </tr>\n",
       "    <tr>\n",
       "      <th>2022-09-26</th>\n",
       "      <td>0.00</td>\n",
       "      <td>0.0</td>\n",
       "      <td>0.0</td>\n",
       "      <td>75.0</td>\n",
       "      <td>59.0</td>\n",
       "      <td>72.0</td>\n",
       "      <td>80.133333</td>\n",
       "      <td>1.068444</td>\n",
       "      <td>75.472924</td>\n",
       "      <td>72.108108</td>\n",
       "    </tr>\n",
       "    <tr>\n",
       "      <th>2022-09-27</th>\n",
       "      <td>0.00</td>\n",
       "      <td>0.0</td>\n",
       "      <td>0.0</td>\n",
       "      <td>72.0</td>\n",
       "      <td>60.0</td>\n",
       "      <td>73.0</td>\n",
       "      <td>79.766667</td>\n",
       "      <td>1.107870</td>\n",
       "      <td>75.471358</td>\n",
       "      <td>72.594595</td>\n",
       "    </tr>\n",
       "    <tr>\n",
       "      <th>2022-09-28</th>\n",
       "      <td>0.00</td>\n",
       "      <td>0.0</td>\n",
       "      <td>0.0</td>\n",
       "      <td>73.0</td>\n",
       "      <td>54.0</td>\n",
       "      <td>68.0</td>\n",
       "      <td>79.366667</td>\n",
       "      <td>1.087215</td>\n",
       "      <td>75.470243</td>\n",
       "      <td>72.054054</td>\n",
       "    </tr>\n",
       "    <tr>\n",
       "      <th>2022-09-29</th>\n",
       "      <td>0.00</td>\n",
       "      <td>0.0</td>\n",
       "      <td>0.0</td>\n",
       "      <td>68.0</td>\n",
       "      <td>56.0</td>\n",
       "      <td>64.0</td>\n",
       "      <td>78.766667</td>\n",
       "      <td>1.158333</td>\n",
       "      <td>75.466877</td>\n",
       "      <td>70.851351</td>\n",
       "    </tr>\n",
       "    <tr>\n",
       "      <th>2022-09-30</th>\n",
       "      <td>0.00</td>\n",
       "      <td>0.0</td>\n",
       "      <td>0.0</td>\n",
       "      <td>64.0</td>\n",
       "      <td>54.0</td>\n",
       "      <td>60.0</td>\n",
       "      <td>77.966667</td>\n",
       "      <td>1.218229</td>\n",
       "      <td>75.461712</td>\n",
       "      <td>68.432432</td>\n",
       "    </tr>\n",
       "  </tbody>\n",
       "</table>\n",
       "<p>26984 rows × 10 columns</p>\n",
       "</div>"
      ],
      "text/plain": [
       "            precip  snow  snow_depth  temp_max  temp_min  target_temp_max  \\\n",
       "DATE                                                                        \n",
       "1948-11-14    0.00   0.0         0.0      52.0      40.0             58.0   \n",
       "1948-11-15    0.00   0.0         0.0      58.0      42.0             55.0   \n",
       "1948-11-16    0.00   0.0         0.0      55.0      42.0             60.0   \n",
       "1948-11-17    0.02   0.0         0.0      60.0      45.0             62.0   \n",
       "1948-11-18    0.00   0.0         0.0      62.0      40.0             62.0   \n",
       "...            ...   ...         ...       ...       ...              ...   \n",
       "2022-09-26    0.00   0.0         0.0      75.0      59.0             72.0   \n",
       "2022-09-27    0.00   0.0         0.0      72.0      60.0             73.0   \n",
       "2022-09-28    0.00   0.0         0.0      73.0      54.0             68.0   \n",
       "2022-09-29    0.00   0.0         0.0      68.0      56.0             64.0   \n",
       "2022-09-30    0.00   0.0         0.0      64.0      54.0             60.0   \n",
       "\n",
       "            month_max  month_day_max  monthly_avg  day_of_year_avg  \n",
       "DATE                                                                \n",
       "1948-11-14  60.466667       1.162821    52.000000        52.000000  \n",
       "1948-11-15  60.300000       1.039655    55.000000        58.000000  \n",
       "1948-11-16  59.900000       1.089091    55.000000        55.000000  \n",
       "1948-11-17  59.800000       0.996667    56.250000        60.000000  \n",
       "1948-11-18  60.200000       0.970968    57.400000        62.000000  \n",
       "...               ...            ...          ...              ...  \n",
       "2022-09-26  80.133333       1.068444    75.472924        72.108108  \n",
       "2022-09-27  79.766667       1.107870    75.471358        72.594595  \n",
       "2022-09-28  79.366667       1.087215    75.470243        72.054054  \n",
       "2022-09-29  78.766667       1.158333    75.466877        70.851351  \n",
       "2022-09-30  77.966667       1.218229    75.461712        68.432432  \n",
       "\n",
       "[26984 rows x 10 columns]"
      ]
     },
     "execution_count": 74,
     "metadata": {},
     "output_type": "execute_result"
    }
   ],
   "source": [
    "core_weather"
   ]
  },
  {
   "cell_type": "code",
   "execution_count": 75,
   "id": "e3cbfe6f-abf8-4c85-99d6-5e24a1f86a32",
   "metadata": {},
   "outputs": [],
   "source": [
    "core_weather['day_of_year_avg'] = core_weather['temp_max'].groupby(core_weather.index.day_of_year).apply(lambda x: x.expanding(1).mean())"
   ]
  },
  {
   "cell_type": "code",
   "execution_count": 76,
   "id": "78b0c6fa-7ce8-4cc8-ad2c-64edc54eb118",
   "metadata": {},
   "outputs": [
    {
     "data": {
      "text/html": [
       "<div>\n",
       "<style scoped>\n",
       "    .dataframe tbody tr th:only-of-type {\n",
       "        vertical-align: middle;\n",
       "    }\n",
       "\n",
       "    .dataframe tbody tr th {\n",
       "        vertical-align: top;\n",
       "    }\n",
       "\n",
       "    .dataframe thead th {\n",
       "        text-align: right;\n",
       "    }\n",
       "</style>\n",
       "<table border=\"1\" class=\"dataframe\">\n",
       "  <thead>\n",
       "    <tr style=\"text-align: right;\">\n",
       "      <th></th>\n",
       "      <th>precip</th>\n",
       "      <th>snow</th>\n",
       "      <th>snow_depth</th>\n",
       "      <th>temp_max</th>\n",
       "      <th>temp_min</th>\n",
       "      <th>target_temp_max</th>\n",
       "      <th>month_max</th>\n",
       "      <th>month_day_max</th>\n",
       "      <th>monthly_avg</th>\n",
       "      <th>day_of_year_avg</th>\n",
       "    </tr>\n",
       "    <tr>\n",
       "      <th>DATE</th>\n",
       "      <th></th>\n",
       "      <th></th>\n",
       "      <th></th>\n",
       "      <th></th>\n",
       "      <th></th>\n",
       "      <th></th>\n",
       "      <th></th>\n",
       "      <th></th>\n",
       "      <th></th>\n",
       "      <th></th>\n",
       "    </tr>\n",
       "  </thead>\n",
       "  <tbody>\n",
       "    <tr>\n",
       "      <th>1948-11-14</th>\n",
       "      <td>0.00</td>\n",
       "      <td>0.0</td>\n",
       "      <td>0.0</td>\n",
       "      <td>52.0</td>\n",
       "      <td>40.0</td>\n",
       "      <td>58.0</td>\n",
       "      <td>60.466667</td>\n",
       "      <td>1.162821</td>\n",
       "      <td>52.000000</td>\n",
       "      <td>52.000000</td>\n",
       "    </tr>\n",
       "    <tr>\n",
       "      <th>1948-11-15</th>\n",
       "      <td>0.00</td>\n",
       "      <td>0.0</td>\n",
       "      <td>0.0</td>\n",
       "      <td>58.0</td>\n",
       "      <td>42.0</td>\n",
       "      <td>55.0</td>\n",
       "      <td>60.300000</td>\n",
       "      <td>1.039655</td>\n",
       "      <td>55.000000</td>\n",
       "      <td>58.000000</td>\n",
       "    </tr>\n",
       "    <tr>\n",
       "      <th>1948-11-16</th>\n",
       "      <td>0.00</td>\n",
       "      <td>0.0</td>\n",
       "      <td>0.0</td>\n",
       "      <td>55.0</td>\n",
       "      <td>42.0</td>\n",
       "      <td>60.0</td>\n",
       "      <td>59.900000</td>\n",
       "      <td>1.089091</td>\n",
       "      <td>55.000000</td>\n",
       "      <td>55.000000</td>\n",
       "    </tr>\n",
       "    <tr>\n",
       "      <th>1948-11-17</th>\n",
       "      <td>0.02</td>\n",
       "      <td>0.0</td>\n",
       "      <td>0.0</td>\n",
       "      <td>60.0</td>\n",
       "      <td>45.0</td>\n",
       "      <td>62.0</td>\n",
       "      <td>59.800000</td>\n",
       "      <td>0.996667</td>\n",
       "      <td>56.250000</td>\n",
       "      <td>60.000000</td>\n",
       "    </tr>\n",
       "    <tr>\n",
       "      <th>1948-11-18</th>\n",
       "      <td>0.00</td>\n",
       "      <td>0.0</td>\n",
       "      <td>0.0</td>\n",
       "      <td>62.0</td>\n",
       "      <td>40.0</td>\n",
       "      <td>62.0</td>\n",
       "      <td>60.200000</td>\n",
       "      <td>0.970968</td>\n",
       "      <td>57.400000</td>\n",
       "      <td>62.000000</td>\n",
       "    </tr>\n",
       "    <tr>\n",
       "      <th>...</th>\n",
       "      <td>...</td>\n",
       "      <td>...</td>\n",
       "      <td>...</td>\n",
       "      <td>...</td>\n",
       "      <td>...</td>\n",
       "      <td>...</td>\n",
       "      <td>...</td>\n",
       "      <td>...</td>\n",
       "      <td>...</td>\n",
       "      <td>...</td>\n",
       "    </tr>\n",
       "    <tr>\n",
       "      <th>2022-09-26</th>\n",
       "      <td>0.00</td>\n",
       "      <td>0.0</td>\n",
       "      <td>0.0</td>\n",
       "      <td>75.0</td>\n",
       "      <td>59.0</td>\n",
       "      <td>72.0</td>\n",
       "      <td>80.133333</td>\n",
       "      <td>1.068444</td>\n",
       "      <td>75.472924</td>\n",
       "      <td>72.108108</td>\n",
       "    </tr>\n",
       "    <tr>\n",
       "      <th>2022-09-27</th>\n",
       "      <td>0.00</td>\n",
       "      <td>0.0</td>\n",
       "      <td>0.0</td>\n",
       "      <td>72.0</td>\n",
       "      <td>60.0</td>\n",
       "      <td>73.0</td>\n",
       "      <td>79.766667</td>\n",
       "      <td>1.107870</td>\n",
       "      <td>75.471358</td>\n",
       "      <td>72.594595</td>\n",
       "    </tr>\n",
       "    <tr>\n",
       "      <th>2022-09-28</th>\n",
       "      <td>0.00</td>\n",
       "      <td>0.0</td>\n",
       "      <td>0.0</td>\n",
       "      <td>73.0</td>\n",
       "      <td>54.0</td>\n",
       "      <td>68.0</td>\n",
       "      <td>79.366667</td>\n",
       "      <td>1.087215</td>\n",
       "      <td>75.470243</td>\n",
       "      <td>72.054054</td>\n",
       "    </tr>\n",
       "    <tr>\n",
       "      <th>2022-09-29</th>\n",
       "      <td>0.00</td>\n",
       "      <td>0.0</td>\n",
       "      <td>0.0</td>\n",
       "      <td>68.0</td>\n",
       "      <td>56.0</td>\n",
       "      <td>64.0</td>\n",
       "      <td>78.766667</td>\n",
       "      <td>1.158333</td>\n",
       "      <td>75.466877</td>\n",
       "      <td>70.851351</td>\n",
       "    </tr>\n",
       "    <tr>\n",
       "      <th>2022-09-30</th>\n",
       "      <td>0.00</td>\n",
       "      <td>0.0</td>\n",
       "      <td>0.0</td>\n",
       "      <td>64.0</td>\n",
       "      <td>54.0</td>\n",
       "      <td>60.0</td>\n",
       "      <td>77.966667</td>\n",
       "      <td>1.218229</td>\n",
       "      <td>75.461712</td>\n",
       "      <td>68.432432</td>\n",
       "    </tr>\n",
       "  </tbody>\n",
       "</table>\n",
       "<p>26984 rows × 10 columns</p>\n",
       "</div>"
      ],
      "text/plain": [
       "            precip  snow  snow_depth  temp_max  temp_min  target_temp_max  \\\n",
       "DATE                                                                        \n",
       "1948-11-14    0.00   0.0         0.0      52.0      40.0             58.0   \n",
       "1948-11-15    0.00   0.0         0.0      58.0      42.0             55.0   \n",
       "1948-11-16    0.00   0.0         0.0      55.0      42.0             60.0   \n",
       "1948-11-17    0.02   0.0         0.0      60.0      45.0             62.0   \n",
       "1948-11-18    0.00   0.0         0.0      62.0      40.0             62.0   \n",
       "...            ...   ...         ...       ...       ...              ...   \n",
       "2022-09-26    0.00   0.0         0.0      75.0      59.0             72.0   \n",
       "2022-09-27    0.00   0.0         0.0      72.0      60.0             73.0   \n",
       "2022-09-28    0.00   0.0         0.0      73.0      54.0             68.0   \n",
       "2022-09-29    0.00   0.0         0.0      68.0      56.0             64.0   \n",
       "2022-09-30    0.00   0.0         0.0      64.0      54.0             60.0   \n",
       "\n",
       "            month_max  month_day_max  monthly_avg  day_of_year_avg  \n",
       "DATE                                                                \n",
       "1948-11-14  60.466667       1.162821    52.000000        52.000000  \n",
       "1948-11-15  60.300000       1.039655    55.000000        58.000000  \n",
       "1948-11-16  59.900000       1.089091    55.000000        55.000000  \n",
       "1948-11-17  59.800000       0.996667    56.250000        60.000000  \n",
       "1948-11-18  60.200000       0.970968    57.400000        62.000000  \n",
       "...               ...            ...          ...              ...  \n",
       "2022-09-26  80.133333       1.068444    75.472924        72.108108  \n",
       "2022-09-27  79.766667       1.107870    75.471358        72.594595  \n",
       "2022-09-28  79.366667       1.087215    75.470243        72.054054  \n",
       "2022-09-29  78.766667       1.158333    75.466877        70.851351  \n",
       "2022-09-30  77.966667       1.218229    75.461712        68.432432  \n",
       "\n",
       "[26984 rows x 10 columns]"
      ]
     },
     "execution_count": 76,
     "metadata": {},
     "output_type": "execute_result"
    }
   ],
   "source": [
    "core_weather"
   ]
  },
  {
   "cell_type": "code",
   "execution_count": 77,
   "id": "90f1dcb5-eea4-4d10-bf77-dd9682046ecc",
   "metadata": {},
   "outputs": [],
   "source": [
    "predictors = ['precip', 'snow', 'snow_depth', 'temp_max', 'temp_min', 'month_max', 'month_day_max', 'monthly_avg', 'day_of_year_avg']"
   ]
  },
  {
   "cell_type": "code",
   "execution_count": 78,
   "id": "4884d14e-e850-4e10-946e-2054d63cfdc8",
   "metadata": {},
   "outputs": [],
   "source": [
    "mae, combine = create_predictions(predictors, core_weather, regression)"
   ]
  },
  {
   "cell_type": "code",
   "execution_count": 79,
   "id": "07f3947e-3ba7-436a-a4e7-d9dd5c16a4fb",
   "metadata": {},
   "outputs": [
    {
     "data": {
      "text/plain": [
       "4.789142324654658"
      ]
     },
     "execution_count": 79,
     "metadata": {},
     "output_type": "execute_result"
    }
   ],
   "source": [
    "mae"
   ]
  },
  {
   "cell_type": "code",
   "execution_count": 88,
   "id": "4c78de0f-f1da-4715-942c-8a6d1f8315c6",
   "metadata": {},
   "outputs": [
    {
     "data": {
      "text/plain": [
       "precip            -0.003966\n",
       "snow              -0.163487\n",
       "snow_depth        -0.228193\n",
       "temp_max           0.916098\n",
       "temp_min           0.914236\n",
       "target_temp_max    1.000000\n",
       "month_max          0.872436\n",
       "month_day_max     -0.333280\n",
       "monthly_avg        0.890555\n",
       "day_of_year_avg    0.902011\n",
       "Name: target_temp_max, dtype: float64"
      ]
     },
     "execution_count": 88,
     "metadata": {},
     "output_type": "execute_result"
    }
   ],
   "source": [
    "# checking the correlations\n",
    "core_weather.corr()['target_temp_max']"
   ]
  },
  {
   "cell_type": "code",
   "execution_count": 89,
   "id": "feea8d51-9614-4307-a59b-875ce6fec55a",
   "metadata": {},
   "outputs": [],
   "source": [
    "core_weather['max_min'] = core_weather['temp_max']-core_weather['temp_min']"
   ]
  },
  {
   "cell_type": "code",
   "execution_count": 90,
   "id": "3f9b427f-5685-4dad-b357-0bf4178d532e",
   "metadata": {},
   "outputs": [],
   "source": [
    "predictors = ['precip', 'snow', 'snow_depth', 'temp_max', 'temp_min', 'month_max', 'month_day_max', 'monthly_avg', 'day_of_year_avg', 'max_min']"
   ]
  },
  {
   "cell_type": "code",
   "execution_count": 91,
   "id": "9f36be63-d703-4324-b9b1-53d39504c5ec",
   "metadata": {},
   "outputs": [],
   "source": [
    "mae, combine = create_predictions(predictors, core_weather, regression)"
   ]
  },
  {
   "cell_type": "code",
   "execution_count": 92,
   "id": "3a5f19f6-bd3b-4da5-abdf-5a55a7b643c2",
   "metadata": {},
   "outputs": [
    {
     "data": {
      "text/plain": [
       "4.789142324183441"
      ]
     },
     "execution_count": 92,
     "metadata": {},
     "output_type": "execute_result"
    }
   ],
   "source": [
    "mae"
   ]
  },
  {
   "cell_type": "code",
   "execution_count": 93,
   "id": "4d3dd53c-ed0e-40de-a2d4-f76406bf65e4",
   "metadata": {},
   "outputs": [
    {
     "data": {
      "text/plain": [
       "precip            -0.003966\n",
       "snow              -0.163487\n",
       "snow_depth        -0.228193\n",
       "temp_max           0.916098\n",
       "temp_min           0.914236\n",
       "target_temp_max    1.000000\n",
       "month_max          0.872436\n",
       "month_day_max     -0.333280\n",
       "monthly_avg        0.890555\n",
       "day_of_year_avg    0.902011\n",
       "max_min            0.201333\n",
       "Name: target_temp_max, dtype: float64"
      ]
     },
     "execution_count": 93,
     "metadata": {},
     "output_type": "execute_result"
    }
   ],
   "source": [
    "core_weather.corr()['target_temp_max']"
   ]
  },
  {
   "cell_type": "code",
   "execution_count": 94,
   "id": "16a8a82c-1efe-4591-9a56-5af2139c9d1b",
   "metadata": {},
   "outputs": [],
   "source": [
    "predictors = ['precip', 'snow', 'snow_depth', 'temp_max', 'temp_min', 'month_max', 'monthly_avg', 'day_of_year_avg', 'max_min']"
   ]
  },
  {
   "cell_type": "code",
   "execution_count": 95,
   "id": "5593ed5d-9c3d-4a75-9f0f-1706dd6057a7",
   "metadata": {},
   "outputs": [],
   "source": [
    "mae, combine = create_predictions(predictors, core_weather, regression)"
   ]
  },
  {
   "cell_type": "code",
   "execution_count": 96,
   "id": "584d0f91-c48e-444f-a328-088ab60445a4",
   "metadata": {},
   "outputs": [
    {
     "data": {
      "text/plain": [
       "4.79003036705942"
      ]
     },
     "execution_count": 96,
     "metadata": {},
     "output_type": "execute_result"
    }
   ],
   "source": [
    "mae"
   ]
  },
  {
   "cell_type": "markdown",
   "id": "bf0d6d29-b580-43d4-87c3-4cc89e32b274",
   "metadata": {},
   "source": [
    "### 7. Using Random Forest Regressor"
   ]
  },
  {
   "cell_type": "code",
   "execution_count": 97,
   "id": "e65a4cfd-3960-4d0d-8389-e29273d629f2",
   "metadata": {},
   "outputs": [],
   "source": [
    "# importing train_test_split function\n",
    "from sklearn.model_selection import train_test_split"
   ]
  },
  {
   "cell_type": "code",
   "execution_count": 100,
   "id": "d5571ce5-a412-49b1-9de9-14b70b247522",
   "metadata": {},
   "outputs": [],
   "source": [
    "X = core_weather.drop(columns='target_temp_max', axis=1)\n",
    "Y = core_weather['target_temp_max']"
   ]
  },
  {
   "cell_type": "code",
   "execution_count": 102,
   "id": "6623de12-5969-49c5-b885-ef58068da318",
   "metadata": {},
   "outputs": [
    {
     "name": "stdout",
     "output_type": "stream",
     "text": [
      "            precip  snow  snow_depth  temp_max  temp_min  month_max  \\\n",
      "DATE                                                                  \n",
      "1948-11-14    0.00   0.0         0.0      52.0      40.0  60.466667   \n",
      "1948-11-15    0.00   0.0         0.0      58.0      42.0  60.300000   \n",
      "1948-11-16    0.00   0.0         0.0      55.0      42.0  59.900000   \n",
      "1948-11-17    0.02   0.0         0.0      60.0      45.0  59.800000   \n",
      "1948-11-18    0.00   0.0         0.0      62.0      40.0  60.200000   \n",
      "...            ...   ...         ...       ...       ...        ...   \n",
      "2022-09-26    0.00   0.0         0.0      75.0      59.0  80.133333   \n",
      "2022-09-27    0.00   0.0         0.0      72.0      60.0  79.766667   \n",
      "2022-09-28    0.00   0.0         0.0      73.0      54.0  79.366667   \n",
      "2022-09-29    0.00   0.0         0.0      68.0      56.0  78.766667   \n",
      "2022-09-30    0.00   0.0         0.0      64.0      54.0  77.966667   \n",
      "\n",
      "            month_day_max  monthly_avg  day_of_year_avg  max_min  \n",
      "DATE                                                              \n",
      "1948-11-14       1.162821    52.000000        52.000000     12.0  \n",
      "1948-11-15       1.039655    55.000000        58.000000     16.0  \n",
      "1948-11-16       1.089091    55.000000        55.000000     13.0  \n",
      "1948-11-17       0.996667    56.250000        60.000000     15.0  \n",
      "1948-11-18       0.970968    57.400000        62.000000     22.0  \n",
      "...                   ...          ...              ...      ...  \n",
      "2022-09-26       1.068444    75.472924        72.108108     16.0  \n",
      "2022-09-27       1.107870    75.471358        72.594595     12.0  \n",
      "2022-09-28       1.087215    75.470243        72.054054     19.0  \n",
      "2022-09-29       1.158333    75.466877        70.851351     12.0  \n",
      "2022-09-30       1.218229    75.461712        68.432432     10.0  \n",
      "\n",
      "[26984 rows x 10 columns]\n",
      "DATE\n",
      "1948-11-14    58.0\n",
      "1948-11-15    55.0\n",
      "1948-11-16    60.0\n",
      "1948-11-17    62.0\n",
      "1948-11-18    62.0\n",
      "              ... \n",
      "2022-09-26    72.0\n",
      "2022-09-27    73.0\n",
      "2022-09-28    68.0\n",
      "2022-09-29    64.0\n",
      "2022-09-30    60.0\n",
      "Name: target_temp_max, Length: 26984, dtype: float64\n"
     ]
    }
   ],
   "source": [
    "print(X)\n",
    "print(Y)"
   ]
  },
  {
   "cell_type": "code",
   "execution_count": 103,
   "id": "dd252718-b30c-490a-8d64-dcd0b56773c1",
   "metadata": {},
   "outputs": [
    {
     "name": "stdout",
     "output_type": "stream",
     "text": [
      "(21587, 10) (5397, 10) (21587,) (5397,)\n"
     ]
    }
   ],
   "source": [
    "# splitting the data into training and testing set\n",
    "X_train, X_test, Y_train, Y_test = train_test_split(X, Y, test_size = 0.2, random_state = 1)\n",
    "print(X_train.shape, X_test.shape, Y_train.shape, Y_test.shape)"
   ]
  },
  {
   "cell_type": "code",
   "execution_count": 104,
   "id": "312b473b-c9cd-4974-8331-b52a0429cfd1",
   "metadata": {},
   "outputs": [],
   "source": [
    "# importing the model \n",
    "from sklearn.ensemble import RandomForestRegressor"
   ]
  },
  {
   "cell_type": "code",
   "execution_count": 105,
   "id": "6e8b5e3b-1de4-4a47-aed4-ca0367ba4afa",
   "metadata": {},
   "outputs": [],
   "source": [
    "# initiation of the model \n",
    "rfr = RandomForestRegressor(n_estimators = 30, random_state = 30) "
   ]
  },
  {
   "cell_type": "code",
   "execution_count": 107,
   "id": "b97c133f-fe6c-4ba4-a3b0-cb7559992cb3",
   "metadata": {},
   "outputs": [],
   "source": [
    "# fitting the model \n",
    "weather_rfr = rfr.fit(X_train, Y_train)"
   ]
  },
  {
   "cell_type": "code",
   "execution_count": 108,
   "id": "bb3208a2-5881-4568-bb14-d5200c737bac",
   "metadata": {},
   "outputs": [],
   "source": [
    "# prediction on the training data\n",
    "ytrain_pred = rfr.predict(X_train)"
   ]
  },
  {
   "cell_type": "code",
   "execution_count": 124,
   "id": "93498e81-663b-4f2d-b7ff-88ec3ce277ee",
   "metadata": {},
   "outputs": [
    {
     "name": "stdout",
     "output_type": "stream",
     "text": [
      "The mae is 1.89\n"
     ]
    }
   ],
   "source": [
    "# mean absolute error of the training data\n",
    "print('The mae is %.2f'% mean_absolute_error(Y_train, ytrain_pred))"
   ]
  },
  {
   "cell_type": "code",
   "execution_count": 125,
   "id": "531c9f29-a370-4672-8e47-b1101f6f5350",
   "metadata": {},
   "outputs": [
    {
     "name": "stdout",
     "output_type": "stream",
     "text": [
      "The mse is 6.18\n"
     ]
    }
   ],
   "source": [
    "# mean squared error of the training data\n",
    "print('The mse is %.2f'% mean_squared_error(Y_train, ytrain_pred))"
   ]
  },
  {
   "cell_type": "code",
   "execution_count": 122,
   "id": "c78b44e8-03aa-4066-9e44-5edc991ee217",
   "metadata": {},
   "outputs": [],
   "source": [
    "# prediction of the testing data\n",
    "ytest_pred = rfr.predict(X_test)"
   ]
  },
  {
   "cell_type": "code",
   "execution_count": 123,
   "id": "d054564a-80d5-4d69-aab0-d9b6548a1fcb",
   "metadata": {},
   "outputs": [
    {
     "name": "stdout",
     "output_type": "stream",
     "text": [
      "[67.         28.1        58.06666667 39.1        84.43333333 46.96666667\n",
      " 79.2        48.73333333 78.7        37.56666667]\n"
     ]
    }
   ],
   "source": [
    "print(ytest_pred[:10])"
   ]
  },
  {
   "cell_type": "code",
   "execution_count": 127,
   "id": "10575ca4-7203-4eeb-8830-8c2905772940",
   "metadata": {},
   "outputs": [
    {
     "name": "stdout",
     "output_type": "stream",
     "text": [
      "The mae is 4.96\n"
     ]
    }
   ],
   "source": [
    "# mean absolute error of the training data\n",
    "print('The mae is %.2f'% mean_absolute_error(Y_test, ytest_pred))"
   ]
  },
  {
   "cell_type": "code",
   "execution_count": 128,
   "id": "52570b70-f737-4d9a-9ab0-982df221f72e",
   "metadata": {},
   "outputs": [
    {
     "name": "stdout",
     "output_type": "stream",
     "text": [
      "The mse is 40.61\n"
     ]
    }
   ],
   "source": [
    "# mean squared error of the training data\n",
    "print('The mse is %.2f'% mean_squared_error(Y_test, ytest_pred))"
   ]
  },
  {
   "cell_type": "code",
   "execution_count": 135,
   "id": "e3627b70-052f-4ede-899f-f89fb33952d1",
   "metadata": {},
   "outputs": [
    {
     "data": {
      "image/png": "[encoded data removed]",
      "text/plain": [
       "<Figure size 720x432 with 1 Axes>"
      ]
     },
     "metadata": {
      "needs_background": "light"
     },
     "output_type": "display_data"
    }
   ],
   "source": [
    "# plotting observed and predicted data\n",
    "plt.rcParams['figure.figsize'] = (10,6)\n",
    "x_axis = range(len(X_test))\n",
    "plt.plot(x_axis, Y_test, label='Observed')\n",
    "plt.plot(x_axis, ytest_pred, label='Predicted')\n",
    "plt.ylabel('Maximun Temperature')\n",
    "plt.xlabel('Testing sample data')\n",
    "plt.legend(bbox_to_anchor=(0.5,-0.2), loc='lower center', ncol=2, frameon=False)\n",
    "plt.show()"
   ]
  },
  {
   "cell_type": "code",
   "execution_count": null,
   "id": "2e41a8db-a97b-40ef-a3ea-e5b1e4d75ac6",
   "metadata": {},
   "outputs": [],
   "source": []
  }
 ],
 "metadata": {
  "kernelspec": {
   "display_name": "Python 3 (ipykernel)",
   "language": "python",
   "name": "python3"
  },
  "language_info": {
   "codemirror_mode": {
    "name": "ipython",
    "version": 3
   },
   "file_extension": ".py",
   "mimetype": "text/x-python",
   "name": "python",
   "nbconvert_exporter": "python",
   "pygments_lexer": "ipython3",
   "version": "3.9.7"
  }
 },
 "nbformat": 4,
 "nbformat_minor": 5
}
